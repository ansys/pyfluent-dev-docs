{
  "cells": [
    {
      "cell_type": "code",
      "execution_count": null,
      "metadata": {
        "collapsed": false
      },
      "outputs": [],
      "source": [
        "%matplotlib inline"
      ]
    },
    {
      "cell_type": "markdown",
      "metadata": {},
      "source": [
        "\n\n# Parametric Session Workflow\nThis example for executing a parametric session workflow performs these steps:\n\n- Launches a parametric session using the hopper/mixer case file\n- Prints the input parameters of the current parametric session\n- Accesses the current study of the current parametric session\n- Creates a new study in a parametric session\n- Renames this newly created study\n- Creates a new parametric session using the flprj saved earlier\n"
      ]
    },
    {
      "cell_type": "markdown",
      "metadata": {},
      "source": [
        "Parametric session workflow\nImport the parametric session workflow\n\n"
      ]
    },
    {
      "cell_type": "code",
      "execution_count": null,
      "metadata": {
        "collapsed": false
      },
      "outputs": [],
      "source": [
        "from ansys.fluent.parametric import ParametricSession"
      ]
    },
    {
      "cell_type": "markdown",
      "metadata": {},
      "source": [
        "Import the pyfluent module and path\n\n"
      ]
    },
    {
      "cell_type": "code",
      "execution_count": null,
      "metadata": {
        "collapsed": false
      },
      "outputs": [],
      "source": [
        "import ansys.fluent.core as pyfluent\nfrom pathlib import Path"
      ]
    },
    {
      "cell_type": "markdown",
      "metadata": {},
      "source": [
        "Launch parametric session using the hopper/mixer case File\nThis case file contains pre-created input and output parameters\n\n"
      ]
    },
    {
      "cell_type": "code",
      "execution_count": null,
      "metadata": {
        "collapsed": false
      },
      "outputs": [],
      "source": [
        "case_path = str(\n    Path(pyfluent.EXAMPLES_PATH) / \"Static_Mixer_Parameters.cas.h5\"\n)\n\nsession = ParametricSession(case_filepath=case_path)"
      ]
    },
    {
      "cell_type": "markdown",
      "metadata": {},
      "source": [
        "Print the input parameters of the current parametric session.\n\n"
      ]
    },
    {
      "cell_type": "code",
      "execution_count": null,
      "metadata": {
        "collapsed": false
      },
      "outputs": [],
      "source": [
        "session.studies[\"Static_Mixer_Parameters-Solve\"].design_points[\n    \"Base DP\"\n].input_parameters"
      ]
    },
    {
      "cell_type": "markdown",
      "metadata": {},
      "source": [
        "Access the current study of the current parametric session\n\n"
      ]
    },
    {
      "cell_type": "code",
      "execution_count": null,
      "metadata": {
        "collapsed": false
      },
      "outputs": [],
      "source": [
        "study_1 = session.studies[\"Static_Mixer_Parameters-Solve\"]\n\ninput_parameters_update = study_1.design_points[\"Base DP\"].input_parameters\ninput_parameters_update[\"inlet1_vel\"] = 15\nstudy_1.design_points[\"Base DP\"].input_parameters = input_parameters_update\n\ndesign_point_1 = study_1.add_design_point()\ndesign_point_1_input_parameters = study_1.design_points[\"DP1\"].input_parameters\ndesign_point_1_input_parameters[\"inlet1_temp\"] = 323\ndesign_point_1_input_parameters[\"inlet1_vel\"] = 33\ndesign_point_1_input_parameters[\"inlet2_vel\"] = 25\nstudy_1.design_points[\"DP1\"].input_parameters = design_point_1_input_parameters"
      ]
    },
    {
      "cell_type": "markdown",
      "metadata": {},
      "source": [
        "In this parametric project create a new study\n\n"
      ]
    },
    {
      "cell_type": "code",
      "execution_count": null,
      "metadata": {
        "collapsed": false
      },
      "outputs": [],
      "source": [
        "study_2 = session.new_study()"
      ]
    },
    {
      "cell_type": "markdown",
      "metadata": {},
      "source": [
        "Update all design points\n\n"
      ]
    },
    {
      "cell_type": "code",
      "execution_count": null,
      "metadata": {
        "collapsed": false
      },
      "outputs": [],
      "source": [
        "study_2.update_all_design_points()"
      ]
    },
    {
      "cell_type": "markdown",
      "metadata": {},
      "source": [
        "Export design point table as a CSV table\n\n"
      ]
    },
    {
      "cell_type": "code",
      "execution_count": null,
      "metadata": {
        "collapsed": false
      },
      "outputs": [],
      "source": [
        "design_point_table_study_2 = str(\n    Path(pyfluent.EXAMPLES_PATH) / \"design_point_table_study_2.csv\"\n)\nstudy_2.export_design_table(design_point_table_study_2)"
      ]
    },
    {
      "cell_type": "markdown",
      "metadata": {},
      "source": [
        "Display CSV table as a pandas dataframe\n\n"
      ]
    },
    {
      "cell_type": "code",
      "execution_count": null,
      "metadata": {
        "collapsed": false
      },
      "outputs": [],
      "source": [
        "import pandas as pd\n\ndata_frame = pd.read_csv(design_point_table_study_2)\nprint(data_frame)"
      ]
    },
    {
      "cell_type": "markdown",
      "metadata": {},
      "source": [
        "Access a new parametric session using the flprj saved earlier\n\n"
      ]
    },
    {
      "cell_type": "code",
      "execution_count": null,
      "metadata": {
        "collapsed": false
      },
      "outputs": [],
      "source": [
        "project_session_filepath = str(\n    Path(pyfluent.EXAMPLES_PATH) / \"static_mixer_study_save_as.flprj\"\n)\nnew_session = ParametricSession(project_filepath=project_session_filepath)"
      ]
    }
  ],
  "metadata": {
    "kernelspec": {
      "display_name": "Python 3",
      "language": "python",
      "name": "python3"
    },
    "language_info": {
      "codemirror_mode": {
        "name": "ipython",
        "version": 3
      },
      "file_extension": ".py",
      "mimetype": "text/x-python",
      "name": "python",
      "nbconvert_exporter": "python",
      "pygments_lexer": "ipython3",
      "version": "3.9.12"
    }
  },
  "nbformat": 4,
  "nbformat_minor": 0
}