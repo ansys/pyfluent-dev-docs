{
  "cells": [
    {
      "cell_type": "code",
      "execution_count": null,
      "metadata": {
        "collapsed": false
      },
      "outputs": [],
      "source": [
        "%matplotlib inline"
      ]
    },
    {
      "cell_type": "markdown",
      "metadata": {},
      "source": [
        "\n# Exhaust System: Fault-tolerant Meshing\n\nThis tutorial illustrates the setup and solution of a three-dimensional\nturbulent fluid flow in a manifold exhaust system. The manifold configuration\nis encountered in the automotive industry. It is often important to predict\nthe flow field in the area of the mixing region in order to properly design\nthe junction. You will use the Fault-tolerant Meshing guided workflow, which\nunlike the watertight workflow used in Fluid Flow in a Mixing Elbow, is\nappropriate for geometries with imperfections, such as gaps and leakages.\n\nThis tutorial demonstrates how to do the following in Ansys Fluent:\n\n\n- Use the Fault-tolerant Meshing guided workflow to:\n    - Import a CAD geometry and manage individual parts\n    - Generate a surface mesh\n    - Cap inlets and outlets\n    - Extract a fluid region\n    - Define leakages\n    - Extract edge features\n    - Setup size controls\n    - Generate a volume mesh\n- Set up appropriate physics and boundary conditions.\n- Calculate a solution.\n- Review the results of the simulation.\n\nProblem Description:\n\nAir flows through the three inlets with a uniform velocity of 1 m/s, and then\nexits through the outlet. A small pipe is placed in the main portion of the\nmanifold where edge extraction will be considered. There is also a known small\nleakage included that will be addressed in the meshing portion of the tutorial\nto demonstrate the automatic leakage detection aspects of the meshing workflow.\n"
      ]
    },
    {
      "cell_type": "markdown",
      "metadata": {},
      "source": [
        "First, connect with a Fluent server\n\n"
      ]
    },
    {
      "cell_type": "code",
      "execution_count": null,
      "metadata": {
        "collapsed": false
      },
      "outputs": [],
      "source": [
        "import ansys.fluent.core as pyfluent\nfrom ansys.fluent.core import examples\n\nimport_filename = examples.download_file(\n    \"exhaust_system.fmd\", \"pyfluent/exhaust_system\"\n)"
      ]
    },
    {
      "cell_type": "markdown",
      "metadata": {},
      "source": [
        "Start Fluent in double precision running on 4 processors\n\n"
      ]
    },
    {
      "cell_type": "code",
      "execution_count": null,
      "metadata": {
        "collapsed": false
      },
      "outputs": [],
      "source": [
        "session = pyfluent.launch_fluent(\n    meshing_mode=True, precision=\"double\", processor_count=2\n)"
      ]
    },
    {
      "cell_type": "markdown",
      "metadata": {},
      "source": [
        "Select the Fault Tolerant Meshing Workflow\n\n"
      ]
    },
    {
      "cell_type": "code",
      "execution_count": null,
      "metadata": {
        "collapsed": false
      },
      "outputs": [],
      "source": [
        "session.workflow.InitializeWorkflow(WorkflowType=\"Fault-tolerant Meshing\")"
      ]
    },
    {
      "cell_type": "markdown",
      "metadata": {},
      "source": [
        "Import the CAD geometry (exhaust_system.fmd). Perform some selective part\nmanagement.\n\n"
      ]
    },
    {
      "cell_type": "code",
      "execution_count": null,
      "metadata": {
        "collapsed": false
      },
      "outputs": [],
      "source": [
        "session.part_management.InputFileChanged(\n    FilePath=import_filename, IgnoreSolidNames=False, PartPerBody=False\n)\nsession.PMFileManagement.FileManager.LoadFiles()\nsession.part_management.Node[\"Meshing Model\"].Copy(\n    Paths=[\n        \"/dirty_manifold-for-wrapper,\"\n        + \"1/dirty_manifold-for-wrapper,1/main,1\",\n        \"/dirty_manifold-for-wrapper,\"\n        + \"1/dirty_manifold-for-wrapper,1/flow-pipe,1\",\n        \"/dirty_manifold-for-wrapper,\"\n        + \"1/dirty_manifold-for-wrapper,1/outpipe3,1\",\n        \"/dirty_manifold-for-wrapper,\"\n        + \"1/dirty_manifold-for-wrapper,1/object2,1\",\n        \"/dirty_manifold-for-wrapper,\"\n        + \"1/dirty_manifold-for-wrapper,1/object1,1\",\n    ]\n)\nsession.part_management.ObjectSetting[\n    \"DefaultObjectSetting\"\n].OneZonePer.setState(\"part\")\nsession.workflow.TaskObject[\n    \"Import CAD and Part Management\"\n].Arguments.setState(\n    {\n        \"Context\": 0,\n        \"CreateObjectPer\": \"Custom\",\n        \"FMDFileName\": \"import_filenamed\",\n        \"FileLoaded\": \"yes\",\n        \"ObjectSetting\": \"DefaultObjectSetting\",\n        \"Options\": {\n            \"Line\": False,\n            \"Solid\": False,\n            \"Surface\": False,\n        },\n    }\n)\nsession.workflow.TaskObject[\"Import CAD and Part Management\"].Execute()"
      ]
    },
    {
      "cell_type": "markdown",
      "metadata": {},
      "source": [
        "Provide a description for the geometry and the flow characteristics.\n\n"
      ]
    },
    {
      "cell_type": "code",
      "execution_count": null,
      "metadata": {
        "collapsed": false
      },
      "outputs": [],
      "source": [
        "session.workflow.TaskObject[\"Describe Geometry and Flow\"].Arguments.setState(\n    {\n        \"AddEnclosure\": \"No\",\n        \"CloseCaps\": \"Yes\",\n        \"FlowType\": \"Internal flow through the object\",\n    }\n)\nsession.workflow.TaskObject[\"Describe Geometry and Flow\"].UpdateChildTasks(\n    SetupTypeChanged=False\n)\nsession.workflow.TaskObject[\"Describe Geometry and Flow\"].Arguments.setState(\n    {\n        \"AddEnclosure\": \"No\",\n        \"CloseCaps\": \"Yes\",\n        \"DescribeGeometryAndFlowOptions\": {\n            \"AdvancedOptions\": True,\n            \"ExtractEdgeFeatures\": \"Yes\",\n        },\n        \"FlowType\": \"Internal flow through the object\",\n    }\n)\nsession.workflow.TaskObject[\"Describe Geometry and Flow\"].UpdateChildTasks(\n    SetupTypeChanged=False\n)\nsession.workflow.TaskObject[\"Describe Geometry and Flow\"].Execute()"
      ]
    },
    {
      "cell_type": "markdown",
      "metadata": {},
      "source": [
        "Cover any openings in your geometry.\n\n"
      ]
    },
    {
      "cell_type": "code",
      "execution_count": null,
      "metadata": {
        "collapsed": false
      },
      "outputs": [],
      "source": [
        "session.workflow.TaskObject[\n    \"Enclose Fluid Regions (Capping)\"\n].Arguments.setState(\n    {\n        \"CreatePatchPreferences\": {\n            \"ShowCreatePatchPreferences\": False,\n        },\n        \"PatchName\": \"inlet-1\",\n        \"SelectionType\": \"zone\",\n        \"ZoneSelectionList\": [\"inlet.1\"],\n    }\n)\nsession.workflow.TaskObject[\n    \"Enclose Fluid Regions (Capping)\"\n].Arguments.setState(\n    {\n        \"CreatePatchPreferences\": {\n            \"ShowCreatePatchPreferences\": False,\n        },\n        \"PatchName\": \"inlet-1\",\n        \"SelectionType\": \"zone\",\n        \"ZoneLocation\": [\n            \"1\",\n            \"351.68205\",\n            \"-361.34322\",\n            \"-301.88668\",\n            \"396.96205\",\n            \"-332.84759\",\n            \"-266.69751\",\n            \"inlet.1\",\n        ],\n        \"ZoneSelectionList\": [\"inlet.1\"],\n    }\n)\nsession.workflow.TaskObject[\"Enclose Fluid Regions (Capping)\"].AddChildToTask()\n\nsession.workflow.TaskObject[\n    \"Enclose Fluid Regions (Capping)\"\n].InsertCompoundChildTask()\nsession.workflow.TaskObject[\n    \"Enclose Fluid Regions (Capping)\"\n].Arguments.setState({})\nsession.workflow.TaskObject[\"inlet-1\"].Execute()\nsession.workflow.TaskObject[\n    \"Enclose Fluid Regions (Capping)\"\n].Arguments.setState(\n    {\n        \"PatchName\": \"inlet-2\",\n        \"SelectionType\": \"zone\",\n        \"ZoneSelectionList\": [\"inlet.2\"],\n    }\n)\nsession.workflow.TaskObject[\n    \"Enclose Fluid Regions (Capping)\"\n].Arguments.setState(\n    {\n        \"PatchName\": \"inlet-2\",\n        \"SelectionType\": \"zone\",\n        \"ZoneLocation\": [\n            \"1\",\n            \"441.68205\",\n            \"-361.34322\",\n            \"-301.88668\",\n            \"486.96205\",\n            \"-332.84759\",\n            \"-266.69751\",\n            \"inlet.2\",\n        ],\n        \"ZoneSelectionList\": [\"inlet.2\"],\n    }\n)\nsession.workflow.TaskObject[\"Enclose Fluid Regions (Capping)\"].AddChildToTask()\n\nsession.workflow.TaskObject[\n    \"Enclose Fluid Regions (Capping)\"\n].InsertCompoundChildTask()\nsession.workflow.TaskObject[\n    \"Enclose Fluid Regions (Capping)\"\n].Arguments.setState({})\nsession.workflow.TaskObject[\"inlet-2\"].Execute()\nsession.workflow.TaskObject[\n    \"Enclose Fluid Regions (Capping)\"\n].Arguments.setState(\n    {\n        \"PatchName\": \"inlet-3\",\n        \"SelectionType\": \"zone\",\n        \"ZoneSelectionList\": [\"inlet\"],\n    }\n)\nsession.workflow.TaskObject[\n    \"Enclose Fluid Regions (Capping)\"\n].Arguments.setState(\n    {\n        \"PatchName\": \"inlet-3\",\n        \"SelectionType\": \"zone\",\n        \"ZoneLocation\": [\n            \"1\",\n            \"261.68205\",\n            \"-361.34322\",\n            \"-301.88668\",\n            \"306.96205\",\n            \"-332.84759\",\n            \"-266.69751\",\n            \"inlet\",\n        ],\n        \"ZoneSelectionList\": [\"inlet\"],\n    }\n)\nsession.workflow.TaskObject[\"Enclose Fluid Regions (Capping)\"].AddChildToTask()\n\nsession.workflow.TaskObject[\n    \"Enclose Fluid Regions (Capping)\"\n].InsertCompoundChildTask()\nsession.workflow.TaskObject[\n    \"Enclose Fluid Regions (Capping)\"\n].Arguments.setState({})\nsession.workflow.TaskObject[\"inlet-3\"].Execute()\nsession.workflow.TaskObject[\n    \"Enclose Fluid Regions (Capping)\"\n].Arguments.setState(\n    {\n        \"PatchName\": \"outlet-1\",\n        \"SelectionType\": \"zone\",\n        \"ZoneSelectionList\": [\"outlet\"],\n        \"ZoneType\": \"pressure-outlet\",\n    }\n)\nsession.workflow.TaskObject[\n    \"Enclose Fluid Regions (Capping)\"\n].Arguments.setState(\n    {\n        \"PatchName\": \"outlet-1\",\n        \"SelectionType\": \"zone\",\n        \"ZoneLocation\": [\n            \"1\",\n            \"352.22702\",\n            \"-197.8957\",\n            \"84.102381\",\n            \"394.41707\",\n            \"-155.70565\",\n            \"84.102381\",\n            \"outlet\",\n        ],\n        \"ZoneSelectionList\": [\"outlet\"],\n        \"ZoneType\": \"pressure-outlet\",\n    }\n)\nsession.workflow.TaskObject[\"Enclose Fluid Regions (Capping)\"].AddChildToTask()\n\nsession.workflow.TaskObject[\n    \"Enclose Fluid Regions (Capping)\"\n].InsertCompoundChildTask()\nsession.workflow.TaskObject[\n    \"Enclose Fluid Regions (Capping)\"\n].Arguments.setState({})\nsession.workflow.TaskObject[\"outlet-1\"].Execute()"
      ]
    },
    {
      "cell_type": "markdown",
      "metadata": {},
      "source": [
        "Extract edge features.\n\n"
      ]
    },
    {
      "cell_type": "code",
      "execution_count": null,
      "metadata": {
        "collapsed": false
      },
      "outputs": [],
      "source": [
        "session.workflow.TaskObject[\"Extract Edge Features\"].Arguments.setState(\n    {\n        \"ExtractMethodType\": \"Intersection Loops\",\n        \"ObjectSelectionList\": [\"flow_pipe\", \"main\"],\n    }\n)\nsession.workflow.TaskObject[\"Extract Edge Features\"].AddChildToTask()\n\nsession.workflow.TaskObject[\"Extract Edge Features\"].InsertCompoundChildTask()\n\nsession.workflow.TaskObject[\"edge-group-1\"].Arguments.setState(\n    {\n        \"ExtractEdgesName\": \"edge-group-1\",\n        \"ExtractMethodType\": \"Intersection Loops\",\n        \"ObjectSelectionList\": [\"flow_pipe\", \"main\"],\n    }\n)\nsession.workflow.TaskObject[\"Extract Edge Features\"].Arguments.setState({})\n\nsession.workflow.TaskObject[\"edge-group-1\"].Execute()"
      ]
    },
    {
      "cell_type": "markdown",
      "metadata": {},
      "source": [
        "Identify regions.\n\n"
      ]
    },
    {
      "cell_type": "code",
      "execution_count": null,
      "metadata": {
        "collapsed": false
      },
      "outputs": [],
      "source": [
        "session.workflow.TaskObject[\"Identify Regions\"].Arguments.setState(\n    {\n        \"SelectionType\": \"zone\",\n        \"X\": 377.322045740589,\n        \"Y\": -176.800676988458,\n        \"Z\": -37.0764628583475,\n        \"ZoneSelectionList\": [\"main.1\"],\n    }\n)\nsession.workflow.TaskObject[\"Identify Regions\"].Arguments.setState(\n    {\n        \"SelectionType\": \"zone\",\n        \"X\": 377.322045740589,\n        \"Y\": -176.800676988458,\n        \"Z\": -37.0764628583475,\n        \"ZoneLocation\": [\n            \"1\",\n            \"213.32205\",\n            \"-225.28068\",\n            \"-158.25531\",\n            \"541.32205\",\n            \"-128.32068\",\n            \"84.102381\",\n            \"main.1\",\n        ],\n        \"ZoneSelectionList\": [\"main.1\"],\n    }\n)\nsession.workflow.TaskObject[\"Identify Regions\"].AddChildToTask()\n\nsession.workflow.TaskObject[\"Identify Regions\"].InsertCompoundChildTask()\n\nsession.workflow.TaskObject[\"fluid-region-1\"].Arguments.setState(\n    {\n        \"MaterialPointsName\": \"fluid-region-1\",\n        \"SelectionType\": \"zone\",\n        \"X\": 377.322045740589,\n        \"Y\": -176.800676988458,\n        \"Z\": -37.0764628583475,\n        \"ZoneLocation\": [\n            \"1\",\n            \"213.32205\",\n            \"-225.28068\",\n            \"-158.25531\",\n            \"541.32205\",\n            \"-128.32068\",\n            \"84.102381\",\n            \"main.1\",\n        ],\n        \"ZoneSelectionList\": [\"main.1\"],\n    }\n)\nsession.workflow.TaskObject[\"Identify Regions\"].Arguments.setState({})\n\nsession.workflow.TaskObject[\"fluid-region-1\"].Execute()\nsession.workflow.TaskObject[\"Identify Regions\"].Arguments.setState(\n    {\n        \"MaterialPointsName\": \"void-region-1\",\n        \"NewRegionType\": \"void\",\n        \"ObjectSelectionList\": [\"inlet-1\", \"inlet-2\", \"inlet-3\", \"main\"],\n        \"X\": 374.722045740589,\n        \"Y\": -278.9775145640143,\n        \"Z\": -161.1700719416913,\n    }\n)\nsession.workflow.TaskObject[\"Identify Regions\"].AddChildToTask()\n\nsession.workflow.TaskObject[\"Identify Regions\"].InsertCompoundChildTask()\n\nsession.workflow.TaskObject[\"Identify Regions\"].Arguments.setState({})\n\nsession.workflow.TaskObject[\"void-region-1\"].Execute()"
      ]
    },
    {
      "cell_type": "markdown",
      "metadata": {},
      "source": [
        "Define thresholds for any potential leakages.\n\n"
      ]
    },
    {
      "cell_type": "code",
      "execution_count": null,
      "metadata": {
        "collapsed": false
      },
      "outputs": [],
      "source": [
        "session.workflow.TaskObject[\"Define Leakage Threshold\"].Arguments.setState(\n    {\n        \"AddChild\": \"yes\",\n        \"FlipDirection\": True,\n        \"PlaneDirection\": \"X\",\n        \"RegionSelectionSingle\": \"void-region-1\",\n    }\n)\nsession.workflow.TaskObject[\"Define Leakage Threshold\"].AddChildToTask()\n\nsession.workflow.TaskObject[\n    \"Define Leakage Threshold\"\n].InsertCompoundChildTask()\nsession.workflow.TaskObject[\"leakage-1\"].Arguments.setState(\n    {\n        \"AddChild\": \"yes\",\n        \"FlipDirection\": True,\n        \"LeakageName\": \"leakage-1\",\n        \"PlaneDirection\": \"X\",\n        \"RegionSelectionSingle\": \"void-region-1\",\n    }\n)\nsession.workflow.TaskObject[\"Define Leakage Threshold\"].Arguments.setState(\n    {\n        \"AddChild\": \"yes\",\n    }\n)\nsession.workflow.TaskObject[\"leakage-1\"].Execute()"
      ]
    },
    {
      "cell_type": "markdown",
      "metadata": {},
      "source": [
        "Review your region settings.\n\n"
      ]
    },
    {
      "cell_type": "code",
      "execution_count": null,
      "metadata": {
        "collapsed": false
      },
      "outputs": [],
      "source": [
        "session.workflow.TaskObject[\"Update Region Settings\"].Arguments.setState(\n    {\n        \"AllRegionFilterCategories\": [\"2\"] * 5 + [\"1\"] * 2,\n        \"AllRegionLeakageSizeList\": [\"none\"] * 6 + [\"6.4\"],\n        \"AllRegionLinkedConstructionSurfaceList\": [\"n/a\"] * 6 + [\"no\"],\n        \"AllRegionMeshMethodList\": [\"none\"] * 6 + [\"wrap\"],\n        \"AllRegionNameList\": [\n            \"main\",\n            \"flow_pipe\",\n            \"outpipe3\",\n            \"object2\",\n            \"object1\",\n            \"void-region-1\",\n            \"fluid-region-1\",\n        ],\n        \"AllRegionOversetComponenList\": [\"no\"] * 7,\n        \"AllRegionSourceList\": [\"object\"] * 5 + [\"mpt\"] * 2,\n        \"AllRegionTypeList\": [\"void\"] * 6 + [\"fluid\"],\n        \"AllRegionVolumeFillList\": [\"none\"] * 6 + [\"tet\"],\n        \"FilterCategory\": \"Identified Regions\",\n        \"OldRegionLeakageSizeList\": [\"\"],\n        \"OldRegionMeshMethodList\": [\"wrap\"],\n        \"OldRegionNameList\": [\"fluid-region-1\"],\n        \"OldRegionOversetComponenList\": [\"no\"],\n        \"OldRegionTypeList\": [\"fluid\"],\n        \"OldRegionVolumeFillList\": [\"hexcore\"],\n        \"RegionLeakageSizeList\": [\"\"],\n        \"RegionMeshMethodList\": [\"wrap\"],\n        \"RegionNameList\": [\"fluid-region-1\"],\n        \"RegionOversetComponenList\": [\"no\"],\n        \"RegionTypeList\": [\"fluid\"],\n        \"RegionVolumeFillList\": [\"tet\"],\n    }\n)\nsession.workflow.TaskObject[\"Update Region Settings\"].Execute()"
      ]
    },
    {
      "cell_type": "markdown",
      "metadata": {},
      "source": [
        "Select options for controlling the mesh.\n\n"
      ]
    },
    {
      "cell_type": "code",
      "execution_count": null,
      "metadata": {
        "collapsed": false
      },
      "outputs": [],
      "source": [
        "session.workflow.TaskObject[\"Choose Mesh Control Options\"].Execute()"
      ]
    },
    {
      "cell_type": "markdown",
      "metadata": {},
      "source": [
        "Generate the surface mesh.\n\n"
      ]
    },
    {
      "cell_type": "code",
      "execution_count": null,
      "metadata": {
        "collapsed": false
      },
      "outputs": [],
      "source": [
        "session.workflow.TaskObject[\"Generate the Surface Mesh\"].Execute()"
      ]
    },
    {
      "cell_type": "markdown",
      "metadata": {},
      "source": [
        "Confirm and update the boundaries.\n\n"
      ]
    },
    {
      "cell_type": "code",
      "execution_count": null,
      "metadata": {
        "collapsed": false
      },
      "outputs": [],
      "source": [
        "session.workflow.TaskObject[\"Update Boundaries\"].Execute()"
      ]
    },
    {
      "cell_type": "markdown",
      "metadata": {},
      "source": [
        "Add boundary layers.\n\n"
      ]
    },
    {
      "cell_type": "code",
      "execution_count": null,
      "metadata": {
        "collapsed": false
      },
      "outputs": [],
      "source": [
        "session.workflow.TaskObject[\"Add Boundary Layers\"].AddChildToTask()\n\nsession.workflow.TaskObject[\"Add Boundary Layers\"].InsertCompoundChildTask()\n\nsession.workflow.TaskObject[\"aspect-ratio_1\"].Arguments.setState(\n    {\n        \"BLControlName\": \"aspect-ratio_1\",\n    }\n)\nsession.workflow.TaskObject[\"Add Boundary Layers\"].Arguments.setState({})\n\nsession.workflow.TaskObject[\"aspect-ratio_1\"].Execute()"
      ]
    },
    {
      "cell_type": "markdown",
      "metadata": {},
      "source": [
        "Generate the volume mesh.\n\n"
      ]
    },
    {
      "cell_type": "code",
      "execution_count": null,
      "metadata": {
        "collapsed": false
      },
      "outputs": [],
      "source": [
        "session.workflow.TaskObject[\"Generate the Volume Mesh\"].Arguments.setState(\n    {\n        \"AllRegionNameList\": [\n            \"main\",\n            \"flow_pipe\",\n            \"outpipe3\",\n            \"object2\",\n            \"object1\",\n            \"void-region-1\",\n            \"fluid-region-1\",\n        ],\n        \"AllRegionSizeList\": [\"11.33375\"] * 7,\n        \"AllRegionVolumeFillList\": [\"none\"] * 6 + [\"tet\"],\n        \"EnableParallel\": True,\n    }\n)\nsession.workflow.TaskObject[\"Generate the Volume Mesh\"].Execute()"
      ]
    },
    {
      "cell_type": "markdown",
      "metadata": {},
      "source": [
        "Check the mesh.\n\n"
      ]
    },
    {
      "cell_type": "code",
      "execution_count": null,
      "metadata": {
        "collapsed": false
      },
      "outputs": [],
      "source": [
        "session.tui.meshing.mesh.check_mesh()"
      ]
    },
    {
      "cell_type": "markdown",
      "metadata": {},
      "source": [
        "Switch to Solution mode.\n\n"
      ]
    },
    {
      "cell_type": "code",
      "execution_count": null,
      "metadata": {
        "collapsed": false
      },
      "outputs": [],
      "source": [
        "session.tui.meshing.switch_to_solution_mode(\"yes\")\n\nsession.tui.solver.mesh.check()"
      ]
    },
    {
      "cell_type": "markdown",
      "metadata": {},
      "source": [
        "Set the units for length\n\n"
      ]
    },
    {
      "cell_type": "code",
      "execution_count": null,
      "metadata": {
        "collapsed": false
      },
      "outputs": [],
      "source": [
        "session.tui.solver.define.units(\"length\", \"mm\")"
      ]
    },
    {
      "cell_type": "markdown",
      "metadata": {},
      "source": [
        "The settings objects provide a natural way to access and modify settings.\nThe top-level settings object for a session can be accessed with the\nget_settings_root() method of the session object.\nEnabling the settings objects (Beta)\n\n"
      ]
    },
    {
      "cell_type": "code",
      "execution_count": null,
      "metadata": {
        "collapsed": false
      },
      "outputs": [],
      "source": [
        "root = session.get_settings_root()"
      ]
    },
    {
      "cell_type": "markdown",
      "metadata": {},
      "source": [
        "Select kw sst turbulence model\n\n"
      ]
    },
    {
      "cell_type": "code",
      "execution_count": null,
      "metadata": {
        "collapsed": false
      },
      "outputs": [],
      "source": [
        "root.setup.models.viscous.k_omega_model = \"sst\""
      ]
    },
    {
      "cell_type": "markdown",
      "metadata": {},
      "source": [
        "Set the velocity and turbulence boundary conditions for the first inlet\n(inlet-1).\n\n"
      ]
    },
    {
      "cell_type": "code",
      "execution_count": null,
      "metadata": {
        "collapsed": false
      },
      "outputs": [],
      "source": [
        "root.setup.boundary_conditions.velocity_inlet[\"inlet-1\"].vmag = {\n    \"option\": \"constant or expression\",\n    \"constant\": 1,\n}"
      ]
    },
    {
      "cell_type": "markdown",
      "metadata": {},
      "source": [
        "Apply the same conditions for the other velocity inlet boundaries (inlet_2,\nand inlet_3).\n\n"
      ]
    },
    {
      "cell_type": "code",
      "execution_count": null,
      "metadata": {
        "collapsed": false
      },
      "outputs": [],
      "source": [
        "session.tui.solver.define.boundary_conditions.copy_bc(\n    \"inlet-1\", \"inlet-2\", \"inlet-3\", ()\n)"
      ]
    },
    {
      "cell_type": "markdown",
      "metadata": {},
      "source": [
        "Set the boundary conditions at the outlet (outlet-1).\n\n"
      ]
    },
    {
      "cell_type": "code",
      "execution_count": null,
      "metadata": {
        "collapsed": false
      },
      "outputs": [],
      "source": [
        "root.setup.boundary_conditions.pressure_outlet[\n    \"outlet-1\"\n].turb_intensity = 0.05"
      ]
    },
    {
      "cell_type": "markdown",
      "metadata": {},
      "source": [
        "Enable the plotting of residuals during the calculation.\n\n"
      ]
    },
    {
      "cell_type": "code",
      "execution_count": null,
      "metadata": {
        "collapsed": false
      },
      "outputs": [],
      "source": [
        "session.tui.solver.solve.monitors.residual.plot(\"yes\")"
      ]
    },
    {
      "cell_type": "markdown",
      "metadata": {},
      "source": [
        "Initialize the flow field using the Initialization\n\n"
      ]
    },
    {
      "cell_type": "code",
      "execution_count": null,
      "metadata": {
        "collapsed": false
      },
      "outputs": [],
      "source": [
        "session.tui.solver.solve.initialize.hyb_initialization()"
      ]
    },
    {
      "cell_type": "markdown",
      "metadata": {},
      "source": [
        "Start the calculation by requesting 100 iterations\n\n"
      ]
    },
    {
      "cell_type": "code",
      "execution_count": null,
      "metadata": {
        "collapsed": false
      },
      "outputs": [],
      "source": [
        "session.tui.solver.solve.set.number_of_iterations(100)\nsession.tui.solver.solve.iterate()"
      ]
    },
    {
      "cell_type": "markdown",
      "metadata": {},
      "source": [
        "Monitor the total mass flow rate through the entire domain\n\n"
      ]
    },
    {
      "cell_type": "code",
      "execution_count": null,
      "metadata": {
        "collapsed": false
      },
      "outputs": [],
      "source": [
        "root.solution.report_definitions.volume[\"report-volume-int\"] = {}\nroot.solution.report_definitions.volume[\n    \"report-volume-int\"\n].report_type = \"volume-integral\"\nroot.solution.report_definitions.volume[\"report-volume-int\"].zone_names = [\n    \"fluid-region-1\"\n]\nroot.solution.report_definitions.compute(report_defs=[\"report-volume-int\"])"
      ]
    },
    {
      "cell_type": "markdown",
      "metadata": {},
      "source": [
        "Display path lines highlighting the flow field\n\n"
      ]
    },
    {
      "cell_type": "code",
      "execution_count": null,
      "metadata": {
        "collapsed": false
      },
      "outputs": [],
      "source": [
        "root.results.graphics.pathlines[\"pathlines-1\"] = {}\nroot.results.graphics.pathlines[\"pathlines-1\"].print_state()\nroot.results.graphics.pathlines[\"pathlines-1\"].field = \"time\"\nroot.results.graphics.pathlines[\"pathlines-1\"].skip = 5\nroot.results.graphics.pathlines[\"pathlines-1\"].surfaces_list = [\n    \"inlet-1\",\n    \"inlet-2\",\n    \"inlet-3\",\n]\n\n# root.results.graphics.pathlines[\"pathlines-1\"].display()"
      ]
    },
    {
      "cell_type": "markdown",
      "metadata": {},
      "source": [
        "Create an iso-surface through the manifold geometry.\nUsing TUI API due to Issue #288\n\n"
      ]
    },
    {
      "cell_type": "code",
      "execution_count": null,
      "metadata": {
        "collapsed": false
      },
      "outputs": [],
      "source": [
        "session.tui.solver.surface.iso_surface(\n    \"x-coordinate\",\n    \"surf-x-coordinate\",\n    \"()\",\n    \"fluid-region-1\",\n    \"()\",\n    \"380\",\n    \"()\",\n)"
      ]
    },
    {
      "cell_type": "markdown",
      "metadata": {},
      "source": [
        "Create and define contours of velocity magnitude throughout the manifold\nalong with the mesh.\n\n"
      ]
    },
    {
      "cell_type": "code",
      "execution_count": null,
      "metadata": {
        "collapsed": false
      },
      "outputs": [],
      "source": [
        "root.results.graphics.contour[\"contour-velocity\"] = {}\nroot.results.graphics.contour[\"contour-velocity\"].print_state()\nroot.results.graphics.contour[\"contour-velocity\"].field = \"velocity-magnitude\"\nroot.results.graphics.contour[\"contour-velocity\"].surfaces_list = [\n    \"surf-x-coordinate\"\n]\nroot.results.graphics.contour[\"contour-velocity\"].node_values = False\nroot.results.graphics.contour[\n    \"contour-velocity\"\n].range_option.auto_range_on.global_range = False\n# root.results.graphics.contour[\"contour-velocity\"].display()\n\nroot.results.graphics.mesh[\"mesh-1\"] = {}\nsurface_list = root.results.graphics.mesh[\"mesh-1\"].surfaces_list.get_attr(\n    \"allowed-values\"\n)\nroot.results.graphics.mesh[\"mesh-1\"].surfaces_list = surface_list\n# root.results.graphics.mesh[\"mesh-1\"].display()"
      ]
    },
    {
      "cell_type": "markdown",
      "metadata": {},
      "source": [
        "Create a scene containing the mesh and the contours.\nUsing the TUI API due to Issue #289\n\n"
      ]
    },
    {
      "cell_type": "code",
      "execution_count": null,
      "metadata": {
        "collapsed": false
      },
      "outputs": [],
      "source": [
        "session.tui.solver.display.objects.create(\n    \"scene\",\n    \"scene-1\",\n    \"graphics-objects\",\n    \"add\",\n    \"mesh-1\",\n    \"transparency\",\n    \"90\",\n    \"quit\",\n    \"add\",\n    \"contour-velocity\",\n    \"quit\",\n    \"quit\",\n    \"quit\",\n)\n# session.tui.solver.display.objects.display(\"scene-1\")"
      ]
    },
    {
      "cell_type": "markdown",
      "metadata": {},
      "source": [
        "Save case, data and exit.\nsession.tui.solver.file.write_case_data(\"exhaust_system.cas.h5\")\n\n"
      ]
    },
    {
      "cell_type": "code",
      "execution_count": null,
      "metadata": {
        "collapsed": false
      },
      "outputs": [],
      "source": [
        "# session.exit()"
      ]
    }
  ],
  "metadata": {
    "kernelspec": {
      "display_name": "Python 3",
      "language": "python",
      "name": "python3"
    },
    "language_info": {
      "codemirror_mode": {
        "name": "ipython",
        "version": 3
      },
      "file_extension": ".py",
      "mimetype": "text/x-python",
      "name": "python",
      "nbconvert_exporter": "python",
      "pygments_lexer": "ipython3",
      "version": "3.9.12"
    }
  },
  "nbformat": 4,
  "nbformat_minor": 0
}