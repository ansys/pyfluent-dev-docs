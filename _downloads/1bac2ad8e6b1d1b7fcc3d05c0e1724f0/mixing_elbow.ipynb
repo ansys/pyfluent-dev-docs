{
  "cells": [
    {
      "cell_type": "code",
      "execution_count": null,
      "metadata": {
        "collapsed": false
      },
      "outputs": [],
      "source": [
        "%matplotlib inline"
      ]
    },
    {
      "cell_type": "markdown",
      "metadata": {},
      "source": [
        "\n# Fluid Flow and Heat Transfer in a Mixing Elbow\nThis example illustrates the setup and solution of a three-dimensional\nturbulent fluid flow and heat transfer problem in a mixing elbow. The mixing\nelbow configuration is encountered in piping systems in power plants and\nprocessindustries. It is often important to predict the flow field and\ntemperature field in the area of the mixing regionin order to properly design\nthe junction.\n\nThis example demonstrates how to do the following:\n\n- Use the Watertight Geometry guided workflow to:\n    - Import a CAD geometry\n    - Generate a surface mesh\n    - Describe the geometry\n    - Generate a volume mesh\n- Launch Ansys Fluent.\n- Read an existing mesh file into Ansys Fluent.\n- Use mixed units to define the geometry and fluid properties.\n- Set material properties and boundary conditions for a turbulent\n  forced-convection problem.\n- Create a surface report definition and use it as a convergence criterion.\n- Calculate a solution using the pressure-based solver.\n- Visually examine the flow and temperature fields using the postprocessing\n  tools available in Ansys Fluent.\n\nProblem Description:\nA cold fluid at 20 deg C flows into the pipe through a large inlet, and mixes\nwith a warmer fluid at 40 deg C that enters through a smaller inlet located at\nthe elbow. The pipe dimensions are in inches and the fluid properties and\nboundary conditions are given in SI units. The Reynolds number for the flow at\nthe larger inlet is 50, 800, so a turbulent flow model will be required.\n"
      ]
    },
    {
      "cell_type": "markdown",
      "metadata": {},
      "source": [
        "First, download the geometry file and start Fluent as a service with\nMeshing Mode, Double Precision, Number of Processors 2\n\n"
      ]
    },
    {
      "cell_type": "code",
      "execution_count": null,
      "metadata": {
        "collapsed": false
      },
      "outputs": [],
      "source": [
        "import ansys.fluent.core as pyfluent\nfrom ansys.fluent.core import examples\nfrom ansys.fluent.post import set_config\nfrom ansys.fluent.post.pyvista import Graphics\n\nset_config(blocking=True)\n\nimport_filename = examples.download_file(\"mixing_elbow.pmdb\", \"pyfluent/mixing_elbow\")\n\nsession = pyfluent.launch_fluent(\n    meshing_mode=True, precision=\"double\", processor_count=2\n)"
      ]
    },
    {
      "cell_type": "markdown",
      "metadata": {},
      "source": [
        "Select the Watertight Geometry Meshing Workflow\n\n"
      ]
    },
    {
      "cell_type": "code",
      "execution_count": null,
      "metadata": {
        "collapsed": false
      },
      "outputs": [],
      "source": [
        "session.workflow.InitializeWorkflow(WorkflowType=\"Watertight Geometry\")"
      ]
    },
    {
      "cell_type": "markdown",
      "metadata": {},
      "source": [
        "Import the CAD geometry. For Length Units, select \"in\".\nExecute the Import Geometry task.\n\n"
      ]
    },
    {
      "cell_type": "code",
      "execution_count": null,
      "metadata": {
        "collapsed": false
      },
      "outputs": [],
      "source": [
        "session.workflow.TaskObject[\"Import Geometry\"].Arguments = dict(\n    FileName=import_filename, LengthUnit=\"in\"\n)\n\nsession.workflow.TaskObject[\"Import Geometry\"].Execute()"
      ]
    },
    {
      "cell_type": "markdown",
      "metadata": {},
      "source": [
        "Add local sizing:\nIn the Add Local Sizing task, you are prompted as to whether or not you would\nlike to add local sizing controls to the faceted geometry. For the purposes of\nthis example, you can keep the default setting. Execute to complete this task\nand proceed to the next task in the workflow.\n\n"
      ]
    },
    {
      "cell_type": "code",
      "execution_count": null,
      "metadata": {
        "collapsed": false
      },
      "outputs": [],
      "source": [
        "session.workflow.TaskObject[\"Add Local Sizing\"].AddChildToTask()\nsession.workflow.TaskObject[\"Add Local Sizing\"].Execute()"
      ]
    },
    {
      "cell_type": "markdown",
      "metadata": {},
      "source": [
        "Generate the surface mesh:\nIn the Generate the Surface Mesh task, you can set various properties of the\nsurface mesh for the faceted geometry. Specify 0.3 for Maximum Size. Execute\nthe Surface Mesh to complete this task and proceed to the next task in the\nworkflow.\n\n"
      ]
    },
    {
      "cell_type": "code",
      "execution_count": null,
      "metadata": {
        "collapsed": false
      },
      "outputs": [],
      "source": [
        "session.workflow.TaskObject[\"Generate the Surface Mesh\"].Arguments = {\n    \"CFDSurfaceMeshControls\": {\"MaxSize\": 0.3}\n}\nsession.workflow.TaskObject[\"Generate the Surface Mesh\"].Execute()"
      ]
    },
    {
      "cell_type": "markdown",
      "metadata": {},
      "source": [
        "Describe the geometry:\nWhen you select the Describe Geometry task, you are prompted with questions\nrelating to the nature of the imported geometry. Since the geometry defined\nthe fluid region. Select The geometry consists of only fluid regions with no\nvoids for Geometry Type. Execute Describe Geometry to complete this task and\nproceed to the next task in the workflow.\n\n"
      ]
    },
    {
      "cell_type": "code",
      "execution_count": null,
      "metadata": {
        "collapsed": false
      },
      "outputs": [],
      "source": [
        "session.workflow.TaskObject[\"Describe Geometry\"].UpdateChildTasks(\n    SetupTypeChanged=False\n)\nsession.workflow.TaskObject[\"Describe Geometry\"].Arguments = dict(\n    SetupType=\"The geometry consists of only fluid regions with no voids\"\n)\nsession.workflow.TaskObject[\"Describe Geometry\"].UpdateChildTasks(SetupTypeChanged=True)\nsession.workflow.TaskObject[\"Describe Geometry\"].Execute()"
      ]
    },
    {
      "cell_type": "markdown",
      "metadata": {},
      "source": [
        "Update Boundaries Task:\nFor the wall-inlet boundary, change the Boundary Type field to wall. Execute\nUpdate Boundaries to complete this task and proceed to the next task in the\nworkflow.\n\n"
      ]
    },
    {
      "cell_type": "code",
      "execution_count": null,
      "metadata": {
        "collapsed": false
      },
      "outputs": [],
      "source": [
        "session.workflow.TaskObject[\"Update Boundaries\"].Arguments = {\n    \"BoundaryLabelList\": [\"wall-inlet\"],\n    \"BoundaryLabelTypeList\": [\"wall\"],\n    \"OldBoundaryLabelList\": [\"wall-inlet\"],\n    \"OldBoundaryLabelTypeList\": [\"velocity-inlet\"],\n}\nsession.workflow.TaskObject[\"Update Boundaries\"].Execute()"
      ]
    },
    {
      "cell_type": "markdown",
      "metadata": {},
      "source": [
        "Update your regions:\nSelect the Update Regions task, where you can review the names and types of\nthe various regions that have been generated from your imported geometry, and\nchange them as needed. Keep the default settings, and execute Update Regions.\n\n"
      ]
    },
    {
      "cell_type": "code",
      "execution_count": null,
      "metadata": {
        "collapsed": false
      },
      "outputs": [],
      "source": [
        "session.workflow.TaskObject[\"Update Regions\"].Execute()"
      ]
    },
    {
      "cell_type": "markdown",
      "metadata": {},
      "source": [
        "Add Boundary Layers:\nSelect the Add Boundary Layers task, where you can set properties of the\nboundary layer mesh. Keep the default settings, and Add Boundary Layers.\n\n"
      ]
    },
    {
      "cell_type": "code",
      "execution_count": null,
      "metadata": {
        "collapsed": false
      },
      "outputs": [],
      "source": [
        "session.workflow.TaskObject[\"Add Boundary Layers\"].AddChildToTask()\nsession.workflow.TaskObject[\"Add Boundary Layers\"].InsertCompoundChildTask()\nsession.workflow.TaskObject[\"smooth-transition_1\"].Arguments = {\n    \"BLControlName\": \"smooth-transition_1\",\n}\nsession.workflow.TaskObject[\"Add Boundary Layers\"].Arguments = {}\nsession.workflow.TaskObject[\"smooth-transition_1\"].Execute()"
      ]
    },
    {
      "cell_type": "markdown",
      "metadata": {},
      "source": [
        "Generate the volume mesh:\nSelect the Generate the Volume Mesh task, where you can set properties of the\nvolume mesh. Select the poly-hexcore for Fill With. Execute Generate the\nVolume Mesh.\n\n"
      ]
    },
    {
      "cell_type": "code",
      "execution_count": null,
      "metadata": {
        "collapsed": false
      },
      "outputs": [],
      "source": [
        "session.workflow.TaskObject[\"Generate the Volume Mesh\"].Arguments = {\n    \"VolumeFill\": \"poly-hexcore\",\n    \"VolumeFillControls\": {\n        \"HexMaxCellLength\": 0.3,\n    },\n}\nsession.workflow.TaskObject[\"Generate the Volume Mesh\"].Execute()"
      ]
    },
    {
      "cell_type": "markdown",
      "metadata": {},
      "source": [
        "Check the mesh in Meshing mode\n\n"
      ]
    },
    {
      "cell_type": "code",
      "execution_count": null,
      "metadata": {
        "collapsed": false
      },
      "outputs": [],
      "source": [
        "session.tui.meshing.mesh.check_mesh()"
      ]
    },
    {
      "cell_type": "markdown",
      "metadata": {},
      "source": [
        "Save the mesh file (mixing_elbow.msh.h5)\nsession.tui.meshing.file.write_mesh('mixing_elbow.msh.h5')\n\n"
      ]
    },
    {
      "cell_type": "markdown",
      "metadata": {},
      "source": [
        "Switch to Solution mode:\nNow that a high-quality mesh has been generated using Ansys Fluent in meshing\nmode, you can now switch to solver mode to complete the setup of the\nsimulation. We have just checked the mesh, so select Yes to switch to\nsolution mode.\n\n"
      ]
    },
    {
      "cell_type": "code",
      "execution_count": null,
      "metadata": {
        "collapsed": false
      },
      "outputs": [],
      "source": [
        "session.tui.meshing.switch_to_solution_mode(\"yes\")"
      ]
    },
    {
      "cell_type": "markdown",
      "metadata": {},
      "source": [
        "Check the mesh in Solver mode:\nThe mesh check will list the minimum and maximum x, y, and z values from the\nmesh in the default SI unit of meters. It will also report a number of other\nmesh features that are checked. Any errors in the mesh will be reported at\nthis time. Ensure that the minimum volume is not negative, since Ansys Fluent\ncannot begin a calculation when this is the case.\n\n"
      ]
    },
    {
      "cell_type": "code",
      "execution_count": null,
      "metadata": {
        "collapsed": false
      },
      "outputs": [],
      "source": [
        "session.tui.solver.mesh.check()"
      ]
    },
    {
      "cell_type": "markdown",
      "metadata": {},
      "source": [
        "Set the working units for the mesh:\nselect \"in\" to set inches as the working unit for length. Note:  Because the\ndefault SI units will be used for everything except length, there is no need\nto change any other units in this problem. If you want a different working\nunit for length, other than inches (for example, millimeters), make the\nappropriate change.\n\n"
      ]
    },
    {
      "cell_type": "code",
      "execution_count": null,
      "metadata": {
        "collapsed": false
      },
      "outputs": [],
      "source": [
        "session.tui.solver.define.units(\"length\", \"in\")"
      ]
    },
    {
      "cell_type": "markdown",
      "metadata": {},
      "source": [
        "Enable heat transfer by activating the energy equation.\n\n"
      ]
    },
    {
      "cell_type": "code",
      "execution_count": null,
      "metadata": {
        "collapsed": false
      },
      "outputs": [],
      "source": [
        "session.tui.solver.define.models.energy(\"yes\", \", \", \", \", \", \", \", \")"
      ]
    },
    {
      "cell_type": "markdown",
      "metadata": {},
      "source": [
        "Create a new material called water-liquid.\n\n"
      ]
    },
    {
      "cell_type": "code",
      "execution_count": null,
      "metadata": {
        "collapsed": false
      },
      "outputs": [],
      "source": [
        "session.tui.solver.define.materials.copy(\"fluid\", \"water-liquid\")"
      ]
    },
    {
      "cell_type": "markdown",
      "metadata": {},
      "source": [
        "Set up the cell zone conditions for the fluid zone (elbow-fluid). Select\nwater-liquid from the Material list.\n\n"
      ]
    },
    {
      "cell_type": "code",
      "execution_count": null,
      "metadata": {
        "collapsed": false
      },
      "outputs": [],
      "source": [
        "session.tui.solver.define.boundary_conditions.fluid(\n    \"elbow-fluid\",\n    \"yes\",\n    \"water-liquid\",\n    \"no\",\n    \"no\",\n    \"no\",\n    \"no\",\n    \"0\",\n    \"no\",\n    \"0\",\n    \"no\",\n    \"0\",\n    \"no\",\n    \"0\",\n    \"no\",\n    \"0\",\n    \"no\",\n    \"1\",\n    \"no\",\n    \"no\",\n    \"no\",\n    \"no\",\n    \"no\",\n)"
      ]
    },
    {
      "cell_type": "markdown",
      "metadata": {},
      "source": [
        "Set up the boundary conditions for the inlets, outlet, and walls for your CFD\nanalysis.\n\n"
      ]
    },
    {
      "cell_type": "code",
      "execution_count": null,
      "metadata": {
        "collapsed": false
      },
      "outputs": [],
      "source": [
        "# cold inlet (cold-inlet), Setting: Value:\n# Velocity Specification Method: Magnitude, Normal to Boundary\n\nsession.tui.solver.define.boundary_conditions.set.velocity_inlet(\n    \"cold-inlet\", [], \"vmag\", \"no\", 0.4, \"quit\"\n)\nsession.tui.solver.define.boundary_conditions.set.velocity_inlet(\n    \"cold-inlet\", [], \"ke-spec\", \"no\", \"no\", \"no\", \"yes\", \"quit\"\n)\nsession.tui.solver.define.boundary_conditions.set.velocity_inlet(\n    \"cold-inlet\", [], \"turb-intensity\", 5, \"quit\"\n)\nsession.tui.solver.define.boundary_conditions.set.velocity_inlet(\n    \"cold-inlet\", [], \"turb-hydraulic-diam\", 4, \"quit\"\n)\nsession.tui.solver.define.boundary_conditions.set.velocity_inlet(\n    \"cold-inlet\", [], \"temperature\", \"no\", 293.15, \"quit\"\n)"
      ]
    },
    {
      "cell_type": "markdown",
      "metadata": {},
      "source": [
        "hot inlet (hot-inlet), Setting: Value:\nVelocity Specification Method: Magnitude, Normal to Boundary\n\n"
      ]
    },
    {
      "cell_type": "code",
      "execution_count": null,
      "metadata": {
        "collapsed": false
      },
      "outputs": [],
      "source": [
        "session.tui.solver.define.boundary_conditions.set.velocity_inlet(\n    \"hot-inlet\", [], \"vmag\", \"no\", 1.2, \"quit\"\n)\nsession.tui.solver.define.boundary_conditions.set.velocity_inlet(\n    \"hot-inlet\", [], \"ke-spec\", \"no\", \"no\", \"no\", \"yes\", \"quit\"\n)\nsession.tui.solver.define.boundary_conditions.set.velocity_inlet(\n    \"hot-inlet\", [], \"turb-intensity\", 5, \"quit\"\n)\nsession.tui.solver.define.boundary_conditions.set.velocity_inlet(\n    \"hot-inlet\", [], \"turb-hydraulic-diam\", 1, \"quit\"\n)\nsession.tui.solver.define.boundary_conditions.set.velocity_inlet(\n    \"hot-inlet\", [], \"temperature\", \"no\", 313.15, \"quit\"\n)"
      ]
    },
    {
      "cell_type": "markdown",
      "metadata": {},
      "source": [
        "pressure outlet (outlet), Setting: Value:\nBackflow Turbulent Intensity: 5 [%]\nBackflow Turbulent Viscosity Ratio: 4\n\n"
      ]
    },
    {
      "cell_type": "code",
      "execution_count": null,
      "metadata": {
        "collapsed": false
      },
      "outputs": [],
      "source": [
        "session.tui.solver.define.boundary_conditions.set.pressure_outlet(\n    \"outlet\", [], \"turb-intensity\", 5, \"quit\"\n)\nsession.tui.solver.define.boundary_conditions.set.pressure_outlet(\n    \"outlet\", [], \"turb-viscosity-ratio\", 4, \"quit\"\n)"
      ]
    },
    {
      "cell_type": "markdown",
      "metadata": {},
      "source": [
        "Enable the plotting of residuals during the calculation.\n\n"
      ]
    },
    {
      "cell_type": "code",
      "execution_count": null,
      "metadata": {
        "collapsed": false
      },
      "outputs": [],
      "source": [
        "session.tui.solver.solve.monitors.residual.plot(\"yes\")"
      ]
    },
    {
      "cell_type": "markdown",
      "metadata": {},
      "source": [
        "Create a surface report definition of average temperature at the outlet\n(outlet) called \"outlet-temp-avg\n\n"
      ]
    },
    {
      "cell_type": "code",
      "execution_count": null,
      "metadata": {
        "collapsed": false
      },
      "outputs": [],
      "source": [
        "session.tui.solver.solve.report_definitions.add(\n    \"outlet-temp-avg\",\n    \"surface-massavg\",\n    \"field\",\n    \"temperature\",\n    \"surface-names\",\n    \"outlet\",\n    \"()\",\n    \"quit\",\n)"
      ]
    },
    {
      "cell_type": "markdown",
      "metadata": {},
      "source": [
        "Create a convergence condition for outlet-temp-avg:\nProvide con-outlet-temp-avg for Conditions. Select outlet-temp-avg Report\nDefinition. Provide 1e-5 for Stop Criterion. Provide 20 for Ignore Iterations\nBefore. Provide 15 for Use Iterations. Enable Print. Set Every Iteration to\n3.\n\n"
      ]
    },
    {
      "cell_type": "code",
      "execution_count": null,
      "metadata": {
        "collapsed": false
      },
      "outputs": [],
      "source": [
        "# These settings will cause Fluent to consider the solution converged when the\n# surface report definition value for each of the previous 15 iterations is\n# within 0.001% of the current value. Convergence of the values will be checked\n# every 3 iterations. The first 20 iterations will be ignored, allowing for any\n# initial solution dynamics to settle out. Note that the value printed to the\n# console is the deviation between the current and previous iteration values\n# only.\nsession.tui.solver.solve.convergence_conditions(\n    \"conv-reports\",\n    \"add\",\n    \"con-outlet-temp-avg\",\n    \"initial-values-to-ignore\",\n    \"20\",\n    \"previous-values-to-consider\",\n    \"15\",\n    \"print?\",\n    \"yes\",\n    \"report-defs\",\n    \"outlet-temp-avg\",\n    \"stop-criterion\",\n    \"1e-04\",\n    \"quit\",\n    \"quit\",\n    \"condition\",\n    \"1\",\n    \"frequency\",\n    \"3\",\n    \"quit\",\n)\nsession.tui.solver.solve.convergence_conditions(\"frequency\", \"3\", \"quit\")"
      ]
    },
    {
      "cell_type": "markdown",
      "metadata": {},
      "source": [
        "Initialize the flow field using the Hybrid Initialization\n\n"
      ]
    },
    {
      "cell_type": "code",
      "execution_count": null,
      "metadata": {
        "collapsed": false
      },
      "outputs": [],
      "source": [
        "session.tui.solver.solve.initialize.hyb_initialization()"
      ]
    },
    {
      "cell_type": "markdown",
      "metadata": {},
      "source": [
        "Save the case file (mixing_elbow1.cas.h5).\nsession.tui.solver.file.write_case('mixing_elbow1.cas.h5')\n\n"
      ]
    },
    {
      "cell_type": "markdown",
      "metadata": {},
      "source": [
        "Solve for 100 Iterations.\n\n"
      ]
    },
    {
      "cell_type": "code",
      "execution_count": null,
      "metadata": {
        "collapsed": false
      },
      "outputs": [],
      "source": [
        "session.tui.solver.solve.iterate(100)"
      ]
    },
    {
      "cell_type": "markdown",
      "metadata": {},
      "source": [
        "Examine the mass flux report for convergence: Select cold-inlet, hot-inlet,\nand outlet from the Boundaries selection list.\n\n"
      ]
    },
    {
      "cell_type": "code",
      "execution_count": null,
      "metadata": {
        "collapsed": false
      },
      "outputs": [],
      "source": [
        "# session.tui.solver.report.fluxes.mass_flow(\n#     \"no\",\n#     \"cold-inlet\",\n#     \"hot-inlet\",\n#     \"outlet\",\n#     \"()\",\n#     \"yes\",\n#     \"mass-flux1.flp\",\n# )"
      ]
    },
    {
      "cell_type": "markdown",
      "metadata": {},
      "source": [
        "Save the data file (mixing_elbow1.dat.h5).\nsession.tui.solver.file.write_data('mixing_elbow1.dat.h5')\n\n"
      ]
    },
    {
      "cell_type": "markdown",
      "metadata": {},
      "source": [
        "Create and display a definition for velocity magnitude contours on the\nsymmetry plane:\nProvide contour-vel for Contour Name. Select velocity magnitude. Select\nsymmetry-xyplane from the Surfaces list. Display contour-vel contour.\n\n"
      ]
    },
    {
      "cell_type": "code",
      "execution_count": null,
      "metadata": {
        "collapsed": false
      },
      "outputs": [],
      "source": [
        "session.tui.solver.display.objects.create(\n    \"contour\",\n    \"contour-vel\",\n    \"filled?\",\n    \"yes\",\n    \"node-values?\",\n    \"yes\",\n    \"field\",\n    \"velocity-magnitude\",\n    \"surfaces-list\",\n    \"symmetry-xyplane\",\n    \"()\",\n    \"coloring\",\n    \"banded\",\n    \"quit\",\n)\n# session.tui.solver.display.objects.display(\"contour-vel\")"
      ]
    },
    {
      "cell_type": "markdown",
      "metadata": {},
      "source": [
        "Create and display a definition for temperature contours on the symmetry\nplane:\nProvide contour-temp for Contour Name. Select temperature. Select\nsymmetry-xyplane from the Surfaces list. Display contour-temp contour.\n\n"
      ]
    },
    {
      "cell_type": "code",
      "execution_count": null,
      "metadata": {
        "collapsed": false
      },
      "outputs": [],
      "source": [
        "session.tui.solver.display.objects.create(\n    \"contour\",\n    \"contour-temp\",\n    \"filled?\",\n    \"yes\",\n    \"node-values?\",\n    \"yes\",\n    \"field\",\n    \"temperature\",\n    \"surfaces-list\",\n    \"symmetry-xyplane\",\n    \"()\",\n    \"coloring\",\n    \"smooth\",\n    \"quit\",\n)\n# session.tui.solver.display.objects.display(\"contour-temp\")"
      ]
    },
    {
      "cell_type": "markdown",
      "metadata": {},
      "source": [
        "Create and display velocity vectors on the symmetry-xyplane plane:\n\n"
      ]
    },
    {
      "cell_type": "code",
      "execution_count": null,
      "metadata": {
        "collapsed": false
      },
      "outputs": [],
      "source": [
        "# Provide vector-vel for Vector Name. Select arrow for the Style. Select\n# symmetry-xyplane from the Surfaces selection list. Provide 4 for Scale. Set\n# Skip to 2.\nsession.tui.solver.display.objects.create(\n    \"vector\",\n    \"vector-vel\",\n    \"style\",\n    \"arrow\",\n    \"surface-list\",\n    \"symmetry-xyplane\",\n    \"()\",\n    \"scale\",\n    \"scale-f\",\n    \"4\",\n    \"quit\",\n    \"skip\",\n    \"2\",\n    \"quit\",\n)\n# session.tui.solver.display.objects.display(\"vector-vel\")"
      ]
    },
    {
      "cell_type": "markdown",
      "metadata": {},
      "source": [
        "Create an iso-surface representing the intersection of the plane z=0 and the\nsurface outlet. Name: z=0_outlet\n\n"
      ]
    },
    {
      "cell_type": "code",
      "execution_count": null,
      "metadata": {
        "collapsed": false
      },
      "outputs": [],
      "source": [
        "session.tui.solver.surface.iso_surface(\n    \"z-coordinate\", \"z=0_outlet\", \"outlet\", \"()\", \"()\", \"0\", \"()\"\n)"
      ]
    },
    {
      "cell_type": "markdown",
      "metadata": {},
      "source": [
        "Display and save an XY plot of the temperature profile across the centerline\nof the outlet for the initial solution\n\n"
      ]
    },
    {
      "cell_type": "code",
      "execution_count": null,
      "metadata": {
        "collapsed": false
      },
      "outputs": [],
      "source": [
        "session.tui.solver.display.objects.create(\n    \"xy\",\n    \"xy-outlet-temp\",\n    \"y-axis-function\",\n    \"temperature\",\n    \"surfaces-list\",\n    \"z=0_outlet\",\n    \"()\",\n    \"quit\",\n)\n# session.tui.solver.display.objects.display(\"xy-outlet-temp\")\n# session.tui.solver.plot.plot(\n#     \"yes\",\n#     \"temp-1.xy\",\n#     \"no\",\n#     \"no\",\n#     \"no\",\n#     \"temperature\",\n#     \"yes\",\n#     \"1\",\n#     \"0\",\n#     \"0\",\n#     \"z=0_outlet\",\n#     \"()\",\n# )\n#"
      ]
    },
    {
      "cell_type": "markdown",
      "metadata": {},
      "source": [
        "Mesh display using PyVista\n\n"
      ]
    },
    {
      "cell_type": "code",
      "execution_count": null,
      "metadata": {
        "collapsed": false
      },
      "outputs": [],
      "source": [
        "graphics_session = Graphics(session)\nmesh_1 = graphics_session.Meshes[\"mesh-1\"]\nmesh_1.show_edges = True\nmesh_1.surfaces_list = [\n    \"cold-inlet\",\n    \"hot-inlet\",\n    \"wall-elbow\",\n    \"wall-inlet\",\n    \"symmetry-xyplane\",\n    \"outlet\",\n]\n\nmesh_1.display()"
      ]
    },
    {
      "cell_type": "markdown",
      "metadata": {},
      "source": [
        "Temperature Contour display using PyVista\n\n"
      ]
    },
    {
      "cell_type": "code",
      "execution_count": null,
      "metadata": {
        "collapsed": false
      },
      "outputs": [],
      "source": [
        "# contour_1 = graphics_session.Contours[\"contour_1\"]\n# contour_1.field = \"temperature\"\n# contour_1.surfaces_list = [\n#     \"symmetry-xyplane\"\n# ]\n# contour_1.display()"
      ]
    },
    {
      "cell_type": "markdown",
      "metadata": {},
      "source": [
        "Velocity Magnitude Contour display using PyVista\n\n"
      ]
    },
    {
      "cell_type": "code",
      "execution_count": null,
      "metadata": {
        "collapsed": false
      },
      "outputs": [],
      "source": [
        "# contour_2 = graphics_session.Contours[\"contour_2\"]\n# contour_2.field = \"velocity-magnitude\"\n# contour_2.surfaces_list = [\n#     \"symmetry-xyplane\"\n# ]\n# contour_2.display()"
      ]
    },
    {
      "cell_type": "markdown",
      "metadata": {},
      "source": [
        "Write final case and data.\nsession.tui.solver.file.write_case_data(\"mixing_elbow2_tui.cas.h5\")\n\n"
      ]
    }
  ],
  "metadata": {
    "kernelspec": {
      "display_name": "Python 3",
      "language": "python",
      "name": "python3"
    },
    "language_info": {
      "codemirror_mode": {
        "name": "ipython",
        "version": 3
      },
      "file_extension": ".py",
      "mimetype": "text/x-python",
      "name": "python",
      "nbconvert_exporter": "python",
      "pygments_lexer": "ipython3",
      "version": "3.9.12"
    }
  },
  "nbformat": 4,
  "nbformat_minor": 0
}