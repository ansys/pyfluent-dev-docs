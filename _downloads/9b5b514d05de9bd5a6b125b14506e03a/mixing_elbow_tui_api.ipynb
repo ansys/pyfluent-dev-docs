{
  "cells": [
    {
      "cell_type": "code",
      "execution_count": null,
      "metadata": {
        "collapsed": false
      },
      "outputs": [],
      "source": [
        "%matplotlib inline"
      ]
    },
    {
      "cell_type": "markdown",
      "metadata": {},
      "source": [
        "\n\n# Fluid Flow and Heat Transfer in a Mixing Elbow\nThis example illustrates the setup and solution of a three-dimensional\nturbulent fluid flow and heat transfer problem in a mixing elbow. The mixing\nelbow configuration is encountered in piping systems in power plants and\nprocessindustries. It is often important to predict the flow field and\ntemperature field in the area of the mixing regionin order to properly design\nthe junction.\n\nThis example demonstrates how to do the following:\n\n- Use the Watertight Geometry guided workflow to:\n    - Import a CAD geometry\n    - Generate a surface mesh\n    - Decribe the geometry\n    - Generate a volume mesh\n- Launch Ansys Fluent.\n- Read an existing mesh file into Ansys Fluent.\n- Use mixed units to define the geometry and fluid properties.\n- Set material properties and boundary conditions for a turbulent\n  forced-convection problem.\n- Create a surface report definition and use it as a convergence criterion.\n- Calculate a solution using the pressure-based solver.\n- Visually examine the flow and temperature fields using the postprocessing\n  tools available in Ansys Fluent.\n\nProblem Description:\nA cold fluid at 20 deg C flows into the pipe through a large inlet, and mixes\nwith a warmer fluid at 40 deg C that enters through a smaller inlet located at\nthe elbow. The pipe dimensions are in inches and the fluid properties and\nboundary conditions are given in SI units. The Reynolds number for the flow at\nthe larger inlet is 50, 800, so a turbulent flow model will be required.\n"
      ]
    },
    {
      "cell_type": "code",
      "execution_count": null,
      "metadata": {
        "collapsed": false
      },
      "outputs": [],
      "source": [
        "# First, connect with a Fluent server\n\nimport ansys.fluent.core as pyfluent\nfrom ansys.fluent.core import examples\n\n\nimport_filename = examples.download_file(\n    \"mixing_elbow.pmdb\", \"pyfluent/mixing_elbow\"\n)\ns = pyfluent.launch_fluent(start_instance=False)"
      ]
    },
    {
      "cell_type": "code",
      "execution_count": null,
      "metadata": {
        "collapsed": false
      },
      "outputs": [],
      "source": [
        "# Select the Watertight Geometry Meshing Workflow\ns.workflow.InitializeWorkflow(WorkflowType=\"Watertight Geometry\")"
      ]
    },
    {
      "cell_type": "code",
      "execution_count": null,
      "metadata": {
        "collapsed": false
      },
      "outputs": [],
      "source": [
        "# Import the CAD geometry. For Length Units, select \"in\".\n# Execute the Import Geometry task.\n\ns.workflow.TaskObject[\"Import Geometry\"].Arguments = dict(\n    FileName=import_filename, LengthUnit=\"in\"\n)\n\ns.workflow.TaskObject[\"Import Geometry\"].Execute()"
      ]
    },
    {
      "cell_type": "code",
      "execution_count": null,
      "metadata": {
        "collapsed": false
      },
      "outputs": [],
      "source": [
        "# Add local sizing:\n# In the Add Local Sizing task, you are prompted as to whether or not you would\n# like to add local sizing controls to the faceted geometry. For the purposes\n# of this example, you can keep the default setting. Execute to complete this\n# task\n# and proceed to the next task in the workflow.\ns.workflow.TaskObject[\"Add Local Sizing\"].AddChildToTask()\ns.workflow.TaskObject[\"Add Local Sizing\"].Execute()"
      ]
    },
    {
      "cell_type": "code",
      "execution_count": null,
      "metadata": {
        "collapsed": false
      },
      "outputs": [],
      "source": [
        "# Generate the surface mesh:\n# In the Generate the Surface Mesh task, you can set various properties of the\n# surface mesh for the faceted geometry. Specify 0.3 for Maximum Size. Execute\n# the Surface Mesh to complete this task and proceed to the next task in the\n# workflow.\ns.workflow.TaskObject[\"Generate the Surface Mesh\"].Arguments = {\n    \"CFDSurfaceMeshControls\": {\"MaxSize\": 0.3}\n}\ns.workflow.TaskObject[\"Generate the Surface Mesh\"].Execute()"
      ]
    },
    {
      "cell_type": "code",
      "execution_count": null,
      "metadata": {
        "collapsed": false
      },
      "outputs": [],
      "source": [
        "# Describe the geometry:\n# When you select the Describe Geometry task, you are prompted with questions\n# relating to the nature of the imported geometry. Since the geometry defined\n# the fluid region. Select The geometry consists of only fluid regions with no\n# voids for Geometry Type. Execute Describe Geometry to complete this task and\n# proceed\n# to the next task in the workflow.\ns.workflow.TaskObject[\"Describe Geometry\"].UpdateChildTasks(\n    SetupTypeChanged=False\n)\ns.workflow.TaskObject[\"Describe Geometry\"].Arguments = dict(\n    SetupType=\"The geometry consists of only fluid regions with no voids\"\n)\ns.workflow.TaskObject[\"Describe Geometry\"].UpdateChildTasks(\n    SetupTypeChanged=True\n)\ns.workflow.TaskObject[\"Describe Geometry\"].Execute()"
      ]
    },
    {
      "cell_type": "code",
      "execution_count": null,
      "metadata": {
        "collapsed": false
      },
      "outputs": [],
      "source": [
        "# Update Boundaries Task:\n# For the wall-inlet boundary, change the Boundary Type field to wall. Execute\n# Update Boundaries to complete this task and proceed to the next task in the\n# workflow.\ns.workflow.TaskObject[\"Update Boundaries\"].Arguments = {\n    \"BoundaryLabelList\": [\"wall-inlet\"],\n    \"BoundaryLabelTypeList\": [\"wall\"],\n    \"OldBoundaryLabelList\": [\"wall-inlet\"],\n    \"OldBoundaryLabelTypeList\": [\"velocity-inlet\"],\n}\ns.workflow.TaskObject[\"Update Boundaries\"].Execute()"
      ]
    },
    {
      "cell_type": "code",
      "execution_count": null,
      "metadata": {
        "collapsed": false
      },
      "outputs": [],
      "source": [
        "# Update your regions:\n# Select the Update Regions task, where you can review the names and types of\n# the various regions that have been generated from your imported geometry, and\n# change them as needed. Keep the default settings, and execute Update Regions.\ns.workflow.TaskObject[\"Update Regions\"].Execute()"
      ]
    },
    {
      "cell_type": "code",
      "execution_count": null,
      "metadata": {
        "collapsed": false
      },
      "outputs": [],
      "source": [
        "# Add Boundary Layers:\n# Select the Add Boundary Layers task, where you can set properties of the\n# boundary layer mesh. Keep the default settings, and Add Boundary Layers.\n\ns.workflow.TaskObject[\"Add Boundary Layers\"].AddChildToTask()\ns.workflow.TaskObject[\"Add Boundary Layers\"].InsertCompoundChildTask()\ns.workflow.TaskObject[\"smooth-transition_1\"].Arguments = {\n    \"BLControlName\": \"smooth-transition_1\",\n}\ns.workflow.TaskObject[\"Add Boundary Layers\"].Arguments = {}\ns.workflow.TaskObject[\"smooth-transition_1\"].Execute()"
      ]
    },
    {
      "cell_type": "code",
      "execution_count": null,
      "metadata": {
        "collapsed": false
      },
      "outputs": [],
      "source": [
        "# Generate the volume mesh:\n# Select the Generate the Volume Mesh task, where you can set properties of the\n# volume mesh. Select the poly-hexcore for Fill With. Execute Generate the\n# Volume Mesh.\ns.workflow.TaskObject[\"Generate the Volume Mesh\"].Arguments = {\n    \"VolumeFill\": \"poly-hexcore\",\n    \"VolumeFillControls\": {\n        \"HexMaxCellLength\": 0.3,\n    },\n}\ns.workflow.TaskObject[\"Generate the Volume Mesh\"].Execute()"
      ]
    },
    {
      "cell_type": "code",
      "execution_count": null,
      "metadata": {
        "collapsed": false
      },
      "outputs": [],
      "source": [
        "# Check the mesh in Meshing mode\ns.tui.meshing.mesh.check_mesh().result()"
      ]
    },
    {
      "cell_type": "code",
      "execution_count": null,
      "metadata": {
        "collapsed": false
      },
      "outputs": [],
      "source": [
        "# Save the mesh file (mixing_elbow.msh.h5)\n# s.tui.meshing.file.write_mesh('mixing_elbow.msh.h5')"
      ]
    },
    {
      "cell_type": "code",
      "execution_count": null,
      "metadata": {
        "collapsed": false
      },
      "outputs": [],
      "source": [
        "# Switch to Solution mode:\n# Now that a high-quality mesh has been generated using Ansys Fluent in meshing\n# mode, you can now switch to solver mode to complete the setup of the\n# simulation. We have just checked the mesh, so select Yes to switch to\n# solution mode.\ns.tui.meshing.switch_to_solution_mode(\"yes\").result()"
      ]
    },
    {
      "cell_type": "code",
      "execution_count": null,
      "metadata": {
        "collapsed": false
      },
      "outputs": [],
      "source": [
        "# Check the mesh in Solver mode:\n# The mesh check will list the minimum and maximum x, y, and z values from the\n# mesh in the default SI unit of meters. It will also report a number of other\n# mesh features that are checked. Any errors in the mesh will be reported at\n# this time. Ensure that the minimum volume is not negative, since Ansys Fluent\n# cannot begin a calculation when this is the case.\ns.tui.solver.mesh.check().result()"
      ]
    },
    {
      "cell_type": "code",
      "execution_count": null,
      "metadata": {
        "collapsed": false
      },
      "outputs": [],
      "source": [
        "# Set the working units for the mesh:\n# select \"in\" to set inches as the working unit for length. Note:  Because the\n# default SI units will be used for everything except length, there is no need\n# to change any other units in this problem. If you want a different working\n# unit for length, other than inches (for example, millimeters), make the\n# appropriate change.\ns.tui.solver.define.units(\"length\", \"in\").result()"
      ]
    },
    {
      "cell_type": "code",
      "execution_count": null,
      "metadata": {
        "collapsed": false
      },
      "outputs": [],
      "source": [
        "# Enable heat transfer by activating the energy equation.\ns.tui.solver.define.models.energy(\"yes\", \", \", \", \", \", \", \", \").result()"
      ]
    },
    {
      "cell_type": "code",
      "execution_count": null,
      "metadata": {
        "collapsed": false
      },
      "outputs": [],
      "source": [
        "# Create a new material called water-liquid.\ns.tui.solver.define.materials.copy(\"fluid\", \"water-liquid\").result()"
      ]
    },
    {
      "cell_type": "code",
      "execution_count": null,
      "metadata": {
        "collapsed": false
      },
      "outputs": [],
      "source": [
        "# Set up the cell zone conditions for the fluid zone (elbow-fluid). Select\n# water-liquid from the Material list.\ns.tui.solver.define.boundary_conditions.fluid(\n    \"elbow-fluid\",\n    \"yes\",\n    \"water-liquid\",\n    \"no\",\n    \"no\",\n    \"no\",\n    \"no\",\n    \"0\",\n    \"no\",\n    \"0\",\n    \"no\",\n    \"0\",\n    \"no\",\n    \"0\",\n    \"no\",\n    \"0\",\n    \"no\",\n    \"1\",\n    \"no\",\n    \"no\",\n    \"no\",\n    \"no\",\n    \"no\",\n).result()"
      ]
    },
    {
      "cell_type": "code",
      "execution_count": null,
      "metadata": {
        "collapsed": false
      },
      "outputs": [],
      "source": [
        "# Set up the boundary conditions for the inlets, outlet, and walls for your CFD\n# analysis.\n\n# cold inlet (cold-inlet), Setting: Value:\n# Velocity Specification Method: Magnitude, Normal to Boundary\n\ns.tui.solver.define.boundary_conditions.set.velocity_inlet(\n    \"cold-inlet\", [], \"vmag\", \"no\", 0.4, \"quit\"\n).result()\ns.tui.solver.define.boundary_conditions.set.velocity_inlet(\n    \"cold-inlet\", [], \"ke-spec\", \"no\", \"no\", \"no\", \"yes\", \"quit\"\n).result()\ns.tui.solver.define.boundary_conditions.set.velocity_inlet(\n    \"cold-inlet\", [], \"turb-intensity\", 5, \"quit\"\n).result()\ns.tui.solver.define.boundary_conditions.set.velocity_inlet(\n    \"cold-inlet\", [], \"turb-hydraulic-diam\", 4, \"quit\"\n).result()\ns.tui.solver.define.boundary_conditions.set.velocity_inlet(\n    \"cold-inlet\", [], \"temperature\", \"no\", 293.15, \"quit\"\n).result()"
      ]
    },
    {
      "cell_type": "code",
      "execution_count": null,
      "metadata": {
        "collapsed": false
      },
      "outputs": [],
      "source": [
        "# hot inlet (hot-inlet), Setting: Value:\n# Velocity Specification Method: Magnitude, Normal to Boundary\n\n\ns.tui.solver.define.boundary_conditions.set.velocity_inlet(\n    \"hot-inlet\", [], \"vmag\", \"no\", 1.2, \"quit\"\n).result()\ns.tui.solver.define.boundary_conditions.set.velocity_inlet(\n    \"hot-inlet\", [], \"ke-spec\", \"no\", \"no\", \"no\", \"yes\", \"quit\"\n).result()\ns.tui.solver.define.boundary_conditions.set.velocity_inlet(\n    \"hot-inlet\", [], \"turb-intensity\", 5, \"quit\"\n).result()\ns.tui.solver.define.boundary_conditions.set.velocity_inlet(\n    \"hot-inlet\", [], \"turb-hydraulic-diam\", 1, \"quit\"\n).result()\ns.tui.solver.define.boundary_conditions.set.velocity_inlet(\n    \"hot-inlet\", [], \"temperature\", \"no\", 313.15, \"quit\"\n).result()"
      ]
    },
    {
      "cell_type": "code",
      "execution_count": null,
      "metadata": {
        "collapsed": false
      },
      "outputs": [],
      "source": [
        "# pressure outlet (outlet), Setting: Value:\n# Backflow Turbulent Intensity: 5 [%]\n# Backflow Turbulent Viscosity Ratio: 4\n\ns.tui.solver.define.boundary_conditions.set.pressure_outlet(\n    \"outlet\", [], \"turb-intensity\", 5, \"quit\"\n).result()\ns.tui.solver.define.boundary_conditions.set.pressure_outlet(\n    \"outlet\", [], \"turb-viscosity-ratio\", 4, \"quit\"\n).result()"
      ]
    },
    {
      "cell_type": "code",
      "execution_count": null,
      "metadata": {
        "collapsed": false
      },
      "outputs": [],
      "source": [
        "# Enable the plotting of residuals during the calculation.\ns.tui.solver.solve.monitors.residual.plot(\"yes\")"
      ]
    },
    {
      "cell_type": "code",
      "execution_count": null,
      "metadata": {
        "collapsed": false
      },
      "outputs": [],
      "source": [
        "# Create a surface report definition of average temperature at the outlet\n# (outlet) called \"outlet-temp-avg\ns.tui.solver.solve.report_definitions.add(\n    \"outlet-temp-avg\",\n    \"surface-massavg\",\n    \"field\",\n    \"temperature\",\n    \"surface-names\",\n    \"outlet\",\n    \"()\",\n    \"quit\",\n).result()"
      ]
    },
    {
      "cell_type": "code",
      "execution_count": null,
      "metadata": {
        "collapsed": false
      },
      "outputs": [],
      "source": [
        "# Create a surface report file called outlet-temp-avg-rfile using\n# report-definition outlet-temp-avg\n# s.tui.solver.solve.report_files.add(\n#    \"outlet-temp-avg-rfile\",\n#    \"report-defs\",\n#    \"outlet-temp-avg\",\n#    \"()\",\n#    \"file-name\",\n#    \"outlet-temp-avg-rfile.out\",\n#    \"print?\",\n#    \"yes\",\n#    \"file-name\",\n#    \"outlet-temp-avg-rfile.out\",\n#    \"frequency\",\n#    \"3\",\n#    \"frequency-of\",\n#    \"iteration\",\n#    \"itr-index\",\n#    \"1\",\n#    \"run-index\",\n#    \"0\",\n#    \"quit\",\n# ).result()"
      ]
    },
    {
      "cell_type": "code",
      "execution_count": null,
      "metadata": {
        "collapsed": false
      },
      "outputs": [],
      "source": [
        "# Create a convergence condition for outlet-temp-avg:\n# Provide con-outlet-temp-avg for Conditions. Select outlet-temp-avg Report\n# Definition. Provide 1e-5 for Stop Criterion. Provide 20 for Ignore Iterations\n# Before. Provide 15 for Use Iterations. Enable Print. Set Every Iteration to\n# 3.\n\n\n# These settings will cause Fluent to consider the solution converged when the\n# surface report definition value for each of the previous 15 iterations is\n# within 0.001% of the current value. Convergence of the values will be checked\n# every 3 iterations. The first 20 iterations will be ignored, allowing for any\n# initial solution dynamics to settle out. Note that the value printed to the\n# console is the deviation between the current and previous iteration values\n# only.\ns.tui.solver.solve.convergence_conditions(\n    \"conv-reports\",\n    \"add\",\n    \"con-outlet-temp-avg\",\n    \"initial-values-to-ignore\",\n    \"20\",\n    \"previous-values-to-consider\",\n    \"15\",\n    \"print?\",\n    \"yes\",\n    \"report-defs\",\n    \"outlet-temp-avg\",\n    \"stop-criterion\",\n    \"1e-05\",\n    \"quit\",\n    \"quit\",\n    \"condition\",\n    \"1\",\n    \"frequency\",\n    \"3\",\n    \"quit\",\n).result()\ns.tui.solver.solve.convergence_conditions(\"frequency\", \"3\", \"quit\").result()"
      ]
    },
    {
      "cell_type": "code",
      "execution_count": null,
      "metadata": {
        "collapsed": false
      },
      "outputs": [],
      "source": [
        "# Initialize the flow field using the Hybrid Initialization\ns.tui.solver.solve.initialize.hyb_initialization().result()"
      ]
    },
    {
      "cell_type": "code",
      "execution_count": null,
      "metadata": {
        "collapsed": false
      },
      "outputs": [],
      "source": [
        "# Save the case file (mixing_elbow1.cas.h5).\n# s.tui.solver.file.write_case('mixing_elbow1.cas.h5').result()"
      ]
    },
    {
      "cell_type": "code",
      "execution_count": null,
      "metadata": {
        "collapsed": false
      },
      "outputs": [],
      "source": [
        "# Solve for 150 Iterations.\ns.tui.solver.solve.iterate(150).result()"
      ]
    },
    {
      "cell_type": "code",
      "execution_count": null,
      "metadata": {
        "collapsed": false
      },
      "outputs": [],
      "source": [
        "# Examine the mass flux report for convergence: Select cold-inlet, hot-inlet,\n# and outlet from the Boundaries selection list.\n# s.tui.solver.report.fluxes.mass_flow(\n#    \"no\", \"cold-inlet\", \"hot-inlet\", \"outlet\", \"()\", \"yes\", \"mass-flux1.flp\"\n# )"
      ]
    },
    {
      "cell_type": "code",
      "execution_count": null,
      "metadata": {
        "collapsed": false
      },
      "outputs": [],
      "source": [
        "# Save the data file (mixing_elbow1.dat.h5).\n# s.tui.solver.file.write_data('mixing_elbow1.dat.h5').result()"
      ]
    },
    {
      "cell_type": "code",
      "execution_count": null,
      "metadata": {
        "collapsed": false
      },
      "outputs": [],
      "source": [
        "# Create and display a definition for velocity magnitude contours on the\n# symmetry plane:\n# Provide contour-vel for Contour Name. Select velocity magnitude. Select\n# symmetry-xyplane from the Surfaces list. Display contour-vel contour.\n\n\ns.tui.solver.display.objects.create(\n    \"contour\",\n    \"contour-vel\",\n    \"filled?\",\n    \"yes\",\n    \"node-values?\",\n    \"yes\",\n    \"field\",\n    \"velocity-magnitude\",\n    \"surfaces-list\",\n    \"symmetry-xyplane\",\n    \"()\",\n    \"coloring\",\n    \"banded\",\n    \"quit\",\n).result()\n# s.tui.solver.display.objects.display(\"contour-vel\").result()"
      ]
    },
    {
      "cell_type": "code",
      "execution_count": null,
      "metadata": {
        "collapsed": false
      },
      "outputs": [],
      "source": [
        "# Create and display a definition for temperature contours on the symmetry\n# plane:\n# Provide contour-temp for Contour Name. Select temperature. Select\n# symmetry-xyplane from the Surfaces list. Display contour-temp contour.\n\ns.tui.solver.display.objects.create(\n    \"contour\",\n    \"contour-temp\",\n    \"filled?\",\n    \"yes\",\n    \"node-values?\",\n    \"yes\",\n    \"field\",\n    \"temperature\",\n    \"surfaces-list\",\n    \"symmetry-xyplane\",\n    \"()\",\n    \"coloring\",\n    \"smooth\",\n    \"quit\",\n)\n# s.tui.solver.display.objects.display(\"contour-temp\").result()"
      ]
    },
    {
      "cell_type": "code",
      "execution_count": null,
      "metadata": {
        "collapsed": false
      },
      "outputs": [],
      "source": [
        "# Create and display velocity vectors on the symmetry-xyplane plane:\n\n# Provide vector-vel for Vector Name. Select arrow for the Style. Select\n# symmetry-xyplane from the Surfaces selection list. Provide 4 for Scale. Set\n# Skip to 2.\ns.tui.solver.display.objects.create(\n    \"vector\",\n    \"vector-vel\",\n    \"style\",\n    \"arrow\",\n    \"surface-list\",\n    \"symmetry-xyplane\",\n    \"()\",\n    \"scale\",\n    \"scale-f\",\n    \"4\",\n    \"quit\",\n    \"skip\",\n    \"2\",\n    \"quit\",\n).result()\n# s.tui.solver.display.objects.display(\"vector-vel\").result()"
      ]
    },
    {
      "cell_type": "code",
      "execution_count": null,
      "metadata": {
        "collapsed": false
      },
      "outputs": [],
      "source": [
        "# Create an iso-surface representing the intersection of the plane z=0 and the\n# surface outlet. Name: z=0_outlet\ns.tui.solver.surface.iso_surface(\n    \"z-coordinate\", \"z=0_outlet\", \"outlet\", \"()\", \"()\", \"0\", \"()\"\n).result()"
      ]
    },
    {
      "cell_type": "markdown",
      "metadata": {},
      "source": [
        "s.tui.solver.file.write_case_data(\"mixing_elbow1_tui.cas.h5\").result()\n\n"
      ]
    },
    {
      "cell_type": "code",
      "execution_count": null,
      "metadata": {
        "collapsed": false
      },
      "outputs": [],
      "source": [
        "# Display and save an XY plot of the temperature profile across the centerline\n# of the outlet for the initial solution\ns.tui.solver.display.objects.create(\n    \"xy\",\n    \"xy-outlet-temp\",\n    \"y-axis-function\",\n    \"temperature\",\n    \"surfaces-list\",\n    \"z=0_outlet\",\n    \"()\",\n    \"quit\",\n).result()\n# s.tui.solver.display.objects.display(\"xy-outlet-temp\").result()\n# s.tui.solver.plot.plot(\n#    \"yes\",\n#    \"temp-1.xy\",\n#    \"no\",\n#    \"no\",\n#    \"no\",\n#    \"temperature\",\n#    \"yes\",\n#    \"1\",\n#    \"0\",\n#    \"0\",\n#    \"z=0_outlet\",\n#    \"()\",\n# ).result()"
      ]
    },
    {
      "cell_type": "code",
      "execution_count": null,
      "metadata": {
        "collapsed": false
      },
      "outputs": [],
      "source": [
        "# Write final case and data.\n# s.tui.solver.file.write_case_data(\"mixing_elbow2_tui.cas.h5\").result()"
      ]
    }
  ],
  "metadata": {
    "kernelspec": {
      "display_name": "Python 3",
      "language": "python",
      "name": "python3"
    },
    "language_info": {
      "codemirror_mode": {
        "name": "ipython",
        "version": 3
      },
      "file_extension": ".py",
      "mimetype": "text/x-python",
      "name": "python",
      "nbconvert_exporter": "python",
      "pygments_lexer": "ipython3",
      "version": "3.9.10"
    }
  },
  "nbformat": 4,
  "nbformat_minor": 0
}