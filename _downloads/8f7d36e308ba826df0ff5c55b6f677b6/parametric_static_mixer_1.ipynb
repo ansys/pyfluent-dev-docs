{
  "cells": [
    {
      "cell_type": "code",
      "execution_count": null,
      "metadata": {
        "collapsed": false
      },
      "outputs": [],
      "source": [
        "%matplotlib inline"
      ]
    },
    {
      "cell_type": "markdown",
      "metadata": {},
      "source": [
        "\n# Parametric Study Workflow\nThis example for executing a parametric study workflow\nperforms these steps:\n\n- Reads a case file and data file\n- Creates input and output parameters\n- Instantiates a design point study\n- Accesses and modifies the input parameters of\n  the base design point (DP)\n- Updates the current DP\n- Accesses output parameters of the base DP\n- Creates, updates, and deletes more DPs\n- Creates, renames, and deletes parametric studies\n"
      ]
    },
    {
      "cell_type": "code",
      "execution_count": null,
      "metadata": {
        "collapsed": false
      },
      "outputs": [],
      "source": [
        "from pathlib import Path\n\nimport pandas as pd\n\nimport ansys.fluent.core as pyfluent\nfrom ansys.fluent.core import examples\nfrom ansys.fluent.parametric import ParametricStudy"
      ]
    },
    {
      "cell_type": "markdown",
      "metadata": {},
      "source": [
        "Launch Fluent in 3D and double precision\n\n"
      ]
    },
    {
      "cell_type": "code",
      "execution_count": null,
      "metadata": {
        "collapsed": false
      },
      "outputs": [],
      "source": [
        "session = pyfluent.launch_fluent(precision=\"double\", processor_count=2)"
      ]
    },
    {
      "cell_type": "markdown",
      "metadata": {},
      "source": [
        "Enable the settings API (Beta)\n\n"
      ]
    },
    {
      "cell_type": "code",
      "execution_count": null,
      "metadata": {
        "collapsed": false
      },
      "outputs": [],
      "source": [
        "root = session.get_settings_root()"
      ]
    },
    {
      "cell_type": "markdown",
      "metadata": {},
      "source": [
        "Read the hopper/mixer case\n\n"
      ]
    },
    {
      "cell_type": "code",
      "execution_count": null,
      "metadata": {
        "collapsed": false
      },
      "outputs": [],
      "source": [
        "import_filename = examples.download_file(\n    \"Static_Mixer_main.cas.h5\", \"pyfluent/static_mixer\"\n)\n\nsession.tui.solver.file.read_case(case_file_name=import_filename)"
      ]
    },
    {
      "cell_type": "markdown",
      "metadata": {},
      "source": [
        "Set number of iterations to 100\n\n"
      ]
    },
    {
      "cell_type": "code",
      "execution_count": null,
      "metadata": {
        "collapsed": false
      },
      "outputs": [],
      "source": [
        "session.tui.solver.solve.set.number_of_iterations(\"100\")"
      ]
    },
    {
      "cell_type": "markdown",
      "metadata": {},
      "source": [
        "Create input parameters after enabling parameter creation in the TUI:\nParameter values:\nInlet1: velocity (inlet1_vel) 5 m/s and temperature (inlet1_temp) at 300 K\nInlet2: velocity (inlet2_vel) 10 m/s and temperature (inlet2_temp) at 350 K\n\n"
      ]
    },
    {
      "cell_type": "code",
      "execution_count": null,
      "metadata": {
        "collapsed": false
      },
      "outputs": [],
      "source": [
        "session.tui.solver.define.parameters.enable_in_TUI(\"yes\")\n\nsession.tui.solver.define.boundary_conditions.set.velocity_inlet(\n    \"inlet1\", (), \"vmag\", \"yes\", \"inlet1_vel\", 5, \"quit\"\n)\nsession.tui.solver.define.boundary_conditions.set.velocity_inlet(\n    \"inlet1\", (), \"temperature\", \"yes\", \"inlet1_temp\", 300, \"quit\"\n)\n\nsession.tui.solver.define.boundary_conditions.set.velocity_inlet(\n    \"inlet2\", (), \"vmag\", \"yes\", \"no\", \"inlet2_vel\", 10, \"quit\"\n)\nsession.tui.solver.define.boundary_conditions.set.velocity_inlet(\n    \"inlet2\", (), \"temperature\", \"yes\", \"no\", \"inlet2_temp\", 350, \"quit\"\n)"
      ]
    },
    {
      "cell_type": "markdown",
      "metadata": {},
      "source": [
        "Create output parameters using report definitions\n\n"
      ]
    },
    {
      "cell_type": "code",
      "execution_count": null,
      "metadata": {
        "collapsed": false
      },
      "outputs": [],
      "source": [
        "root.solution.report_definitions.surface[\"outlet-temp-avg\"] = {}\nroot.solution.report_definitions.surface[\n    \"outlet-temp-avg\"\n].report_type = \"surface-areaavg\"\nroot.solution.report_definitions.surface[\"outlet-temp-avg\"].field = \"temperature\"\nroot.solution.report_definitions.surface[\"outlet-temp-avg\"].surface_names = [\"outlet\"]\n\nroot.solution.report_definitions.surface[\"outlet-vel-avg\"] = {}\nroot.solution.report_definitions.surface[\n    \"outlet-vel-avg\"\n].report_type = \"surface-areaavg\"\nroot.solution.report_definitions.surface[\"outlet-vel-avg\"].field = \"velocity-magnitude\"\nroot.solution.report_definitions.surface[\"outlet-vel-avg\"].surface_names = [\"outlet\"]\n\nsession.tui.solver.define.parameters.enable_in_TUI(\"yes\")\nsession.tui.solver.define.parameters.output_parameters.create(\n    \"report-definition\", \"outlet-temp-avg\"\n)\nsession.tui.solver.define.parameters.output_parameters.create(\n    \"report-definition\", \"outlet-vel-avg\"\n)"
      ]
    },
    {
      "cell_type": "markdown",
      "metadata": {},
      "source": [
        "Enable convergence condition check\n\n"
      ]
    },
    {
      "cell_type": "code",
      "execution_count": null,
      "metadata": {
        "collapsed": false
      },
      "outputs": [],
      "source": [
        "session.tui.solver.solve.monitors.residual.criterion_type(\"0\")"
      ]
    },
    {
      "cell_type": "markdown",
      "metadata": {},
      "source": [
        "Write case with all the settings in place\n\n"
      ]
    },
    {
      "cell_type": "code",
      "execution_count": null,
      "metadata": {
        "collapsed": false
      },
      "outputs": [],
      "source": [
        "case_path = str(Path(pyfluent.EXAMPLES_PATH) / \"Static_Mixer_Parameters.cas.h5\")\nsession.tui.solver.file.write_case(case_path)"
      ]
    },
    {
      "cell_type": "markdown",
      "metadata": {},
      "source": [
        "Instantiate a parametric study from a Fluent session\n\n"
      ]
    },
    {
      "cell_type": "code",
      "execution_count": null,
      "metadata": {
        "collapsed": false
      },
      "outputs": [],
      "source": [
        "study_1 = ParametricStudy(root.parametric_studies).initialize()"
      ]
    },
    {
      "cell_type": "markdown",
      "metadata": {},
      "source": [
        "Access and modify input parameters of base DP\n\n"
      ]
    },
    {
      "cell_type": "code",
      "execution_count": null,
      "metadata": {
        "collapsed": false
      },
      "outputs": [],
      "source": [
        "input_parameters_update = study_1.design_points[\"Base DP\"].input_parameters\ninput_parameters_update[\"inlet1_vel\"] = 15\nstudy_1.design_points[\"Base DP\"].input_parameters = input_parameters_update"
      ]
    },
    {
      "cell_type": "markdown",
      "metadata": {},
      "source": [
        "Update current design point\n\n"
      ]
    },
    {
      "cell_type": "code",
      "execution_count": null,
      "metadata": {
        "collapsed": false
      },
      "outputs": [],
      "source": [
        "study_1.update_current_design_point()"
      ]
    },
    {
      "cell_type": "markdown",
      "metadata": {},
      "source": [
        "Change value of specific design points\n\n"
      ]
    },
    {
      "cell_type": "code",
      "execution_count": null,
      "metadata": {
        "collapsed": false
      },
      "outputs": [],
      "source": [
        "design_point_1 = study_1.add_design_point()\ndesign_point_1_input_parameters = study_1.design_points[\"DP1\"].input_parameters\ndesign_point_1_input_parameters[\"inlet1_temp\"] = 450\ndesign_point_1_input_parameters[\"inlet1_vel\"] = 30\ndesign_point_1_input_parameters[\"inlet2_vel\"] = 20\nstudy_1.design_points[\"DP1\"].input_parameters = design_point_1_input_parameters"
      ]
    },
    {
      "cell_type": "markdown",
      "metadata": {},
      "source": [
        "Add another design point with different values of the input parameters\n\n"
      ]
    },
    {
      "cell_type": "code",
      "execution_count": null,
      "metadata": {
        "collapsed": false
      },
      "outputs": [],
      "source": [
        "design_point_2 = study_1.add_design_point()\ndesign_point_2_input_parameters = study_1.design_points[\"DP2\"].input_parameters\ndesign_point_2_input_parameters[\"inlet1_temp\"] = 500\ndesign_point_2_input_parameters[\"inlet1_vel\"] = 45\ndesign_point_2_input_parameters[\"inlet2_vel\"] = 30\nstudy_1.design_points[\"DP2\"].input_parameters = design_point_2_input_parameters"
      ]
    },
    {
      "cell_type": "markdown",
      "metadata": {},
      "source": [
        "Duplicate design points\n\n"
      ]
    },
    {
      "cell_type": "code",
      "execution_count": null,
      "metadata": {
        "collapsed": false
      },
      "outputs": [],
      "source": [
        "design_point_3 = study_1.duplicate_design_point(design_point_2)"
      ]
    },
    {
      "cell_type": "markdown",
      "metadata": {},
      "source": [
        "Update all design points for study 1\n\n"
      ]
    },
    {
      "cell_type": "code",
      "execution_count": null,
      "metadata": {
        "collapsed": false
      },
      "outputs": [],
      "source": [
        "study_1.update_all_design_points()"
      ]
    },
    {
      "cell_type": "markdown",
      "metadata": {},
      "source": [
        "Export design point table as a CSV table\n\n"
      ]
    },
    {
      "cell_type": "code",
      "execution_count": null,
      "metadata": {
        "collapsed": false
      },
      "outputs": [],
      "source": [
        "design_point_table = str(\n    Path(pyfluent.EXAMPLES_PATH) / \"design_point_table_study_1.csv\"\n)\nstudy_1.export_design_table(design_point_table)"
      ]
    },
    {
      "cell_type": "markdown",
      "metadata": {},
      "source": [
        "Display CSV table as a pandas dataframe\n\n"
      ]
    },
    {
      "cell_type": "code",
      "execution_count": null,
      "metadata": {
        "collapsed": false
      },
      "outputs": [],
      "source": [
        "data_frame = pd.read_csv(design_point_table)\nprint(data_frame)"
      ]
    },
    {
      "cell_type": "markdown",
      "metadata": {},
      "source": [
        "Delete design points\n\n"
      ]
    },
    {
      "cell_type": "code",
      "execution_count": null,
      "metadata": {
        "collapsed": false
      },
      "outputs": [],
      "source": [
        "study_1.delete_design_points([design_point_1, design_point_2])"
      ]
    },
    {
      "cell_type": "markdown",
      "metadata": {},
      "source": [
        "Create a new parametric study by duplicating the current one\n\n"
      ]
    },
    {
      "cell_type": "code",
      "execution_count": null,
      "metadata": {
        "collapsed": false
      },
      "outputs": [],
      "source": [
        "study_2 = study_1.duplicate()"
      ]
    },
    {
      "cell_type": "markdown",
      "metadata": {},
      "source": [
        "Rename the newly created parametric study\nCurrently affected by issue # 249, hence commented out\n\n"
      ]
    },
    {
      "cell_type": "code",
      "execution_count": null,
      "metadata": {
        "collapsed": false
      },
      "outputs": [],
      "source": [
        "# study_2.rename(\"New Study\")"
      ]
    },
    {
      "cell_type": "markdown",
      "metadata": {},
      "source": [
        "Delete the old parametric study\nCurrently affected by issue #249, hence commented out\n\n"
      ]
    },
    {
      "cell_type": "code",
      "execution_count": null,
      "metadata": {
        "collapsed": false
      },
      "outputs": [],
      "source": [
        "# study_1.delete()"
      ]
    },
    {
      "cell_type": "markdown",
      "metadata": {},
      "source": [
        "Save parametric project\n\n"
      ]
    },
    {
      "cell_type": "code",
      "execution_count": null,
      "metadata": {
        "collapsed": false
      },
      "outputs": [],
      "source": [
        "project_filepath = str(Path(pyfluent.EXAMPLES_PATH) / \"static_mixer_study.flprj\")\n\nsession.tui.solver.file.parametric_project.save_as(project_filepath)"
      ]
    }
  ],
  "metadata": {
    "kernelspec": {
      "display_name": "Python 3",
      "language": "python",
      "name": "python3"
    },
    "language_info": {
      "codemirror_mode": {
        "name": "ipython",
        "version": 3
      },
      "file_extension": ".py",
      "mimetype": "text/x-python",
      "name": "python",
      "nbconvert_exporter": "python",
      "pygments_lexer": "ipython3",
      "version": "3.9.12"
    }
  },
  "nbformat": 4,
  "nbformat_minor": 0
}