{
  "cells": [
    {
      "cell_type": "code",
      "execution_count": null,
      "metadata": {
        "collapsed": false
      },
      "outputs": [],
      "source": [
        "%matplotlib inline"
      ]
    },
    {
      "cell_type": "markdown",
      "metadata": {},
      "source": [
        "\n# Parametric Project-Based Workflow\nThis parametric study workflow example performs these steps:\n\n- Instantiates a parametric study from a Fluent session\n- Reads the previously saved project ``- static_mixer_study.flprj``\n- Saves the current project\n- Saves the current project to a different file name\n- Exports the current project\n- Archives the current project\n- Exits the parametric project-based workflow\n"
      ]
    },
    {
      "cell_type": "code",
      "execution_count": null,
      "metadata": {
        "collapsed": false
      },
      "outputs": [],
      "source": [
        "from pathlib import Path\n\nimport ansys.fluent.core as pyfluent\nfrom ansys.fluent.parametric import ParametricProject"
      ]
    },
    {
      "cell_type": "markdown",
      "metadata": {},
      "source": [
        "Launch Fluent and enable the settings API (Beta)\n\n"
      ]
    },
    {
      "cell_type": "code",
      "execution_count": null,
      "metadata": {
        "collapsed": false
      },
      "outputs": [],
      "source": [
        "session = pyfluent.launch_fluent(precision=\"double\", processor_count=2)"
      ]
    },
    {
      "cell_type": "markdown",
      "metadata": {},
      "source": [
        "Read the previously saved project - static_mixer_study.flprj\n\n"
      ]
    },
    {
      "cell_type": "code",
      "execution_count": null,
      "metadata": {
        "collapsed": false
      },
      "outputs": [],
      "source": [
        "project_filepath_read = str(Path(pyfluent.EXAMPLES_PATH) / \"static_mixer_study.flprj\")\n\nproj = ParametricProject(\n    session.solver.root.file.parametric_project,\n    session.solver.root.parametric_studies,\n    project_filepath_read,\n)"
      ]
    },
    {
      "cell_type": "markdown",
      "metadata": {},
      "source": [
        "Save the current project\n\n"
      ]
    },
    {
      "cell_type": "code",
      "execution_count": null,
      "metadata": {
        "collapsed": false
      },
      "outputs": [],
      "source": [
        "proj.save()"
      ]
    },
    {
      "cell_type": "markdown",
      "metadata": {},
      "source": [
        "Save the current project to a different file name\n\n"
      ]
    },
    {
      "cell_type": "code",
      "execution_count": null,
      "metadata": {
        "collapsed": false
      },
      "outputs": [],
      "source": [
        "project_filepath_save_as = str(\n    Path(pyfluent.EXAMPLES_PATH) / \"static_mixer_study_save_as.flprj\"\n)\nproj.save_as(project_filepath=project_filepath_save_as)"
      ]
    },
    {
      "cell_type": "markdown",
      "metadata": {},
      "source": [
        "Export the current project\n\n"
      ]
    },
    {
      "cell_type": "code",
      "execution_count": null,
      "metadata": {
        "collapsed": false
      },
      "outputs": [],
      "source": [
        "project_filepath_export = str(\n    Path(pyfluent.EXAMPLES_PATH) / \"static_mixer_study_export.flprj\"\n)\nproj.export(project_filepath=project_filepath_export)"
      ]
    },
    {
      "cell_type": "markdown",
      "metadata": {},
      "source": [
        "Archive the current project\n\n"
      ]
    },
    {
      "cell_type": "code",
      "execution_count": null,
      "metadata": {
        "collapsed": false
      },
      "outputs": [],
      "source": [
        "proj.archive()"
      ]
    },
    {
      "cell_type": "markdown",
      "metadata": {},
      "source": [
        "Close Fluent\n\n"
      ]
    },
    {
      "cell_type": "code",
      "execution_count": null,
      "metadata": {
        "collapsed": false
      },
      "outputs": [],
      "source": [
        "session.exit()"
      ]
    }
  ],
  "metadata": {
    "kernelspec": {
      "display_name": "Python 3",
      "language": "python",
      "name": "python3"
    },
    "language_info": {
      "codemirror_mode": {
        "name": "ipython",
        "version": 3
      },
      "file_extension": ".py",
      "mimetype": "text/x-python",
      "name": "python",
      "nbconvert_exporter": "python",
      "pygments_lexer": "ipython3",
      "version": "3.9.12"
    }
  },
  "nbformat": 4,
  "nbformat_minor": 0
}